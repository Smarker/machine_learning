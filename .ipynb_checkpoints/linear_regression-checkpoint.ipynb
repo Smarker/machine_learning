{
 "cells": [
  {
   "cell_type": "markdown",
   "metadata": {},
   "source": [
    "# Linear Regression"
   ]
  },
  {
   "cell_type": "markdown",
   "metadata": {},
   "source": [
    "<img src=\"https://upload.wikimedia.org/wikipedia/commons/thumb/3/3a/Linear_regression.svg/438px-Linear_regression.svg.png\">"
   ]
  },
  {
   "cell_type": "markdown",
   "metadata": {},
   "source": [
    "In this section, we will describe Linear Regression. We begin with an abstract description of Linear Regression, followed by a practical solution using the Least Squares Approach, and ending with an implementation in code.\n",
    "\n",
    "Understanding Linear Regression provides a foundation for understanding other types of regression. Not all regressions are the same, and there is no one size fits all solution for regression problems (there are often many variations of solutions even for a specific problem!) but hopefully by getting a feel for the mechanics of linear regression, more complex forms of regression will appear more tangible."
   ]
  },
  {
   "cell_type": "markdown",
   "metadata": {},
   "source": [
    "## Abstract Description"
   ]
  },
  {
   "cell_type": "markdown",
   "metadata": {},
   "source": [
    "Linear Regression is described by Wikipedia as follows:\n",
    "\n",
    "* linear regression is a linear approach to modelling the relationship between a dependent variable and one or more explanatory variables\n",
    "    * **simple linear regression** - one explanatory variable\n",
    "    * **multiple linear regression** - more than one explanatory variable\n",
    "\n",
    "* relationships are modeled using linear models whose unknown model parameters are estimated from the data\n",
    "\n",
    "* linear regression models are often fitted using the least squares approach, but they may also be fitted in other ways, such as by minimizing a penalized version of the least squares cost function as in **ridge regression** (L2-norm penalty) and **lasso** (L1-norm penalty)\n",
    "\n",
    "In short, linear regression allows us to create a linear model that describes the relationship between explanatory variables and observations. A common method for solving this problem is through Least Squares."
   ]
  },
  {
   "cell_type": "markdown",
   "metadata": {},
   "source": [
    "## Least Squares Approach"
   ]
  },
  {
   "cell_type": "markdown",
   "metadata": {},
   "source": [
    "Linear least squares is the simplest and most commonly applied form of linear regression. It seeks to best fitting straight line by **minimizing the sum of the squares** of the distance (or offsets) between observations in data and the curve."
   ]
  },
  {
   "cell_type": "markdown",
   "metadata": {},
   "source": [
    "<img src=\"https://raw.githubusercontent.com/rasbt/python_reference/master/Images/least_squares_vertical.png\" />"
   ]
  },
  {
   "cell_type": "markdown",
   "metadata": {},
   "source": [
    "### Minimizing with Projection"
   ]
  },
  {
   "cell_type": "markdown",
   "metadata": {},
   "source": [
    "Let's consider a linear algebra based approach to the linear least squares.\n",
    "\n",
    "Suppose we have a set of coordinates: $(-1, 0), (0, 1), (1, 2), (2, 1)$."
   ]
  },
  {
   "cell_type": "code",
   "execution_count": 3,
   "metadata": {},
   "outputs": [
    {
     "data": {
      "text/plain": [
       "<matplotlib.collections.PathCollection at 0x7f58ecbac0b8>"
      ]
     },
     "execution_count": 3,
     "metadata": {},
     "output_type": "execute_result"
    },
    {
     "data": {
      "image/png": "[encoded data removed]",
      "text/plain": [
       "<Figure size 432x288 with 1 Axes>"
      ]
     },
     "metadata": {},
     "output_type": "display_data"
    }
   ],
   "source": [
    "import matplotlib.pyplot as plt\n",
    "plt.scatter([-1, 0, 1, 2],[0, 1, 2, 1])"
   ]
  },
  {
   "cell_type": "markdown",
   "metadata": {},
   "source": [
    "We want to find a line $y$ of the form $y = f(x) = mx + b$ that best fits our points. That is to say that we want to find values of $m$ and $b$ that satisfies the sytem:\n",
    "$$f(-1) = -1m + b = 0$$\n",
    "$$f(0) = 0m + b = 1$$\n",
    "$$f(1) = 1m + b = 2$$\n",
    "$$f(2) = 2m + b = 1$$\n",
    "\n",
    "As matrices, we could organize these as follows:\n",
    "$$\\begin{bmatrix}\n",
    "-1 & 1 \\\\\n",
    " 0 & 1 \\\\\n",
    " 1 & 1 \\\\\n",
    " 2 & 1 \n",
    "\\end{bmatrix}\n",
    "\\begin{bmatrix}\n",
    " m \\\\\n",
    " b \\\\\n",
    "\\end{bmatrix}\n",
    "=\n",
    "\\begin{bmatrix}\n",
    " 0 \\\\\n",
    " 1 \\\\\n",
    " 2 \\\\\n",
    " 1\n",
    "\\end{bmatrix}$$\n",
    "We will refer to these matrices as $A$, $\\vec{x}$, and $\\vec{b}$, and we will find a solution to the problem $A\\vec{x} = \\vec{b}$. "
   ]
  },
  {
   "cell_type": "markdown",
   "metadata": {},
   "source": [
    "In this case, there is no solution to the problem because we have an **overdetermined system**. A system is an **overdetermined system** if there are more equations to unknowns.\n",
    "\n",
    "Looking at the plot above, we can further see that there is no solution to the problem as it is clear that there is no straight line we can draw that will intersect all 4 points. Therefore, we can say that the vector $\\vec{b}$ is **not** in the [column space](https://en.wikipedia.org/wiki/Row_and_column_spaces) of $A$, or $C(A)$.\n",
    "\n",
    "To visualize how vector $\\vec{b}$ is **not** in the column space of $A$, let's imagine that $C(A)$ is a plane. If we were to graph $C(A)$ and $\\vec{b}$, it might look something like this:\n",
    "\n",
    "![image](https://user-images.githubusercontent.com/8890471/44747033-0fd4d900-aada-11e8-99ba-09fa2deb4cf6.png)\n",
    "\n",
    "This is by no means an *exact* representation, but the important thing to note here is that $\\vec{b}$ is not in $C(A)$."
   ]
  },
  {
   "cell_type": "markdown",
   "metadata": {},
   "source": [
    "Since $\\vec{b}$ is not in $C(A)$, we will instead find a vector $\\vec{x}^*$ that is as close (by distance) as possible to $\\vec{b}$ and exists in $C(A)$. \n",
    "\n",
    "* First, we find a vector in $C(A)$. Multiplying $\\vec{x}^*$ by $A$ will result in a vector that exists in $C(A)$, so we will say that the vector $\\vec{v} = A\\vec{x}^*$.\n",
    "\n",
    "* Next, we want our vector $\\vec{v}$ to be as close to $\\vec{b}$ as possible. By definition, the closest vector to $\\vec{b}$ that exists in $C(A)$ would be the [projection](https://en.wikipedia.org/wiki/Linear_projection) of $\\vec{b}$ onto $C(A)$, so we will say that our vector $\\vec{v} = proj_{C(A)}\\vec{b}$.\n",
    "\n",
    "To get some intuition about what the projection is, let's add to our previous visualization:\n",
    "\n",
    "![image](https://user-images.githubusercontent.com/8890471/44802134-eb840580-ab88-11e8-8835-69ca2a1a082d.png)\n",
    "\n",
    "In this image, $\\vec{v}$ is the projection of $\\vec{b}$ onto $C(A)$. Imagine that there were a bright light shining above $\\vec{b}$. The projection $\\vec{v}$ would be the shadow of $\\vec{b}$ cast onto the plane of $C(A)$."
   ]
  },
  {
   "cell_type": "markdown",
   "metadata": {},
   "source": [
    "**Quick recap**: We are trying to solve $Ax = b$. Unfortunately, this system is **overdetermined**, and there is no possible $x$ such that the equality would hold. Instead, let's look for some $\\vec{x}^*$ that will get us as close as possible. The closest value to $b$ that we can get from $A\\vec{x}^*$ would be the projection of $b$ onto $C(A)$. So we are trying to solve: $$A\\vec{x}^* = proj_{C(A)}\\vec{b}$$"
   ]
  },
  {
   "cell_type": "markdown",
   "metadata": {},
   "source": [
    "Unfortunately, projections are difficult. If there is an easier way to solve this problem, we should take it. Let's consider this:\n",
    "\n",
    "Let's subtract $\\vec{b}$ from both sides of the equation: $$A\\vec{x}^* - \\vec{b} = proj_{C(A)}\\vec{b} - \\vec{b}$$ What we're doing here results in the following:\n",
    "\n",
    "![image](https://user-images.githubusercontent.com/8890471/44808334-f7c48e80-ab99-11e8-94e4-f6185af0694e.png)"
   ]
  },
  {
   "cell_type": "markdown",
   "metadata": {},
   "source": [
    "An important feature of this relationship is the length of the vector between $proj_{C(A)}\\vec{b}$, or $\\vec{v}$, and $\\vec{b}$. Recall that the Least Squares approach to Linear Regression is called so because it aims to minimize the sum of the squares of the distances between the estimated line and the real observed points. If we were to perform the calculation for the length of that vector squared, it would appear as follows:\n",
    "$$\n",
    "\\bigg\\Vert\n",
    "\\begin{bmatrix}\n",
    " b_1 - v_1 \\\\\n",
    " b_2 - v_2 \\\\\n",
    " \\dots     \\\\\n",
    " b_n - v_n\n",
    "\\end{bmatrix}\n",
    "\\bigg\\Vert^2\n",
    "=\n",
    "\\sqrt{(b_1 - v_1)^2 + (b_2 - v_2)^2 + \\dots (b_n - v_n)^2}^2\n",
    "$$\n",
    "\n",
    "Cancel out the square root, and we're left with the following:\n",
    "$$\n",
    "(b_1 - v_1)^2 + (b_2 - v_2)^2 + \\dots (b_n - v_n)^2\n",
    "$$\n",
    "The sum of squares! Recall that $\\vec{b}$ represents our real observations, and $\\vec{v}$ is the projection of $\\vec{b}$ onto the column space of our explanatory variables. So, by definition, $\\vec{v}$ is as close to $\\vec{b}$ as we can get in $C(A)$, and the length of $\\vec{b} - \\vec{v}$ is minimized, solving the Least Squares problem."
   ]
  },
  {
   "cell_type": "markdown",
   "metadata": {},
   "source": [
    "Now that we have established that this approach is a solution to the Least Squares problem, we will continue to solve it. Because the vector $\\vec{b} - \\vec{v}$ is orthogonal to $C(A)$, we could also say that it is a member of the orthogonal column space of $A$, or $C(A)^{\\perp}$.\n",
    "\n",
    "This is an interesting realization, because $C(A)^{\\perp}$ is equal to the nullspace of $A$ transpose, or $N(A^T)$! So, we can say that $A\\vec{x}^* - \\vec{b} \\in N(A^T)$.\n",
    "\n",
    "Recall that multiplying by a space makes something a member of that space, it follows that: $$A^T(A\\vec{x}^* -\\vec{b}) = N(A^T) = \\vec{0}$$\n",
    "\n",
    "If we distribute and solve:\n",
    "\n",
    "$$A^TA\\vec{x}^* -A^T\\vec{b} = \\vec{0}$$\n",
    "\n",
    "$$A^TA\\vec{x}^* = A^T\\vec{b}$$\n",
    "\n",
    "Finally, we multiply both sides by $(A^TA)^{-1}$. We know what $A^TA$ is invertible, because any matrix times its transpose is square. This leaves us with the following:\n",
    "\n",
    "$$\\vec{x}^* = (A^TA)^{-1}A^T\\vec{b}$$\n",
    "\n",
    "Perfect! We've arrived at a clear answer. Next, we'll solve our original problem with some code."
   ]
  },
  {
   "cell_type": "markdown",
   "metadata": {},
   "source": [
    "### Least Squares in Code"
   ]
  },
  {
   "cell_type": "markdown",
   "metadata": {},
   "source": [
    "Suppose again that we have the set of coordinates: $(-1, 0), (0, 1), (1, 2), (2, 1)$.\n",
    "\n",
    "Let's solve through $\\vec{x}^* = (A^TA)^{-1}A^T\\vec{b}$."
   ]
  },
  {
   "cell_type": "code",
   "execution_count": 3,
   "metadata": {},
   "outputs": [
    {
     "name": "stdout",
     "output_type": "stream",
     "text": [
      "m = 0.4\n",
      "b = 0.8\n"
     ]
    },
    {
     "data": {
      "text/plain": [
       "[<matplotlib.lines.Line2D at 0x1aaea162ba8>]"
      ]
     },
     "execution_count": 3,
     "metadata": {},
     "output_type": "execute_result"
    },
    {
     "data": {
      "image/png": "[encoded data removed]",
      "text/plain": [
       "<Figure size 432x288 with 1 Axes>"
      ]
     },
     "metadata": {},
     "output_type": "display_data"
    }
   ],
   "source": [
    "import matplotlib.pyplot as plt\n",
    "import numpy as np\n",
    "\n",
    "x = [-1, 0, 1, 2]\n",
    "y = [0, 1, 2, 1]\n",
    "\n",
    "# Set up matrices\n",
    "A = np.array([x, np.ones(len(x))]).T\n",
    "b = np.array(y).T\n",
    "\n",
    "# (A transpose * A) ^ -1 * A transpose * b\n",
    "x_star = np.linalg.inv(A.T @ A) @ A.T @ b\n",
    "\n",
    "# x = [m, b]\n",
    "m = x_star[0]\n",
    "b = x_star[1]\n",
    "\n",
    "print('m =', m)\n",
    "print('b =', b)\n",
    "\n",
    "x_plot = np.linspace(-1, 2, 100)\n",
    "y_plot = m * x_plot + b\n",
    "\n",
    "plt.scatter(x,y)\n",
    "plt.plot(x_plot, y_plot)"
   ]
  },
  {
   "cell_type": "markdown",
   "metadata": {},
   "source": [
    "Look at that! We got a line that fits our points. Pat yourself on the back."
   ]
  },
  {
   "cell_type": "markdown",
   "metadata": {},
   "source": [
    "## Summary\n",
    "\n",
    "* **linear regression** allows us to model the relationship between explanatory variables and observations. For example, linear regression could model observed concert ticket prices given the relationship between a number of explanatory variables such as available seats, seat location, and artist\n",
    "* **linear least squares** is an applied form of linear regression. Linear least squares tries to fit a line to a set of points such that the total squared distance between each point and the line is minimized\n",
    "* an **overdetermined system** has more equations to unknowns, so there does **not exist** a solution to the problem. We can find a solution to an overdetermined system through the use of a **projection**, namely $proj_{C(A)}\\vec{b}$\n",
    "* our solution to **linear least squares** with linear algebra is:\n",
    "$$\\vec{x}^* = (A^TA)^{-1}A^T\\vec{b}$$"
   ]
  },
  {
   "cell_type": "markdown",
   "metadata": {},
   "source": [
    "Given that we have a single step solution to multiple linear equations, [why don't we see more people using this linear algebra approach](https://stats.stackexchange.com/questions/278755/why-use-gradient-descent-for-linear-regression-when-a-closed-form-math-solution/278773#278773)?\n",
    "\n",
    "Inverting a matrix costs $O(N^3)$ where $N$ is the number of rows in $A^T \\cdot A$ i.e. the observations. In addition, if the $A^T \\cdot A$ is [ill-conditioned](http://www.cs.uleth.ca/~holzmann/notes/illconditioned.pdf), then it will create errors in the estimation.\n",
    "\n",
    "So if we have many observations, we need another method to deal with an overdetermined system. We can use **calculus**! The method we will use to solve linear least squares is called **gradient descent**."
   ]
  },
  {
   "cell_type": "markdown",
   "metadata": {},
   "source": [
    "# Gradient Descent\n",
    "\n",
    "**Gradient descent** is used to find the minimum of a function. When we perform linear least squares, our goal is to fit a line to a set of points and **minimize** the total squared distance between each point and the line. That total squared distance between each point and a line can be represented as a function called a **cost function**. Gradient descent **iteratively** moves in the **direction of steepest descent** as defined by the **negative of the gradient**. At each iteration, **theta** (the vector of coefficients of the model function) will be updated.\n",
    "\n",
    "The theta update is captured by subtracting the **learning rate**, _alpha_, multiplied by the **gradient of the cost function**, $J$:\n",
    "\n",
    "$\\alpha = $ learning rate\n",
    "\n",
    "$J(\\theta)$ = cost function\n",
    "\n",
    "$$\\theta := \\theta - \\alpha * \\frac{\\partial}{\\partial \\theta_j} J(\\theta) $$\n",
    "\n",
    "![image](https://user-images.githubusercontent.com/7232635/44599603-e13ac380-a7a4-11e8-8e91-2b3cba9d231f.png)\n",
    "\n",
    "(In the diagram above, you can think of the **initial weight** as the initial $\\theta$ or coefficients in $f(x)$)\n",
    "\n",
    "Before we go into the derivation of gradient descent and its applications, let's visit the **cost function**."
   ]
  },
  {
   "cell_type": "markdown",
   "metadata": {},
   "source": [
    "# Cost Functions\n",
    "\n",
    "Cost functions are a measurement of the **performance** of the model. To find a model that best fits the data, use a cost function. Minimizing the cost function lends to better models, as a low cost would imply that the predictions are not far from the actual values. In the following section, we will see how making small tweaks to parameters of the model with the goal of minimizing the cost outputs a model that fits to the data well.\n",
    "\n",
    "Two such cost functions are **residual sum of squares (RSS)** and **mean squared error (MSE)**."
   ]
  },
  {
   "cell_type": "markdown",
   "metadata": {},
   "source": [
    "## Residual Sum of Squares (RSS)\n",
    "\n",
    "**RSS** is a measure of the discrepancy, or error, between the data and function modelling the data.\n",
    "\n",
    "**RSS** is the **sum of squared residuals** (or sum of squared error). \n",
    "\n",
    "$$RSS = \\sum_{i=1}^{n}(y_i - f(x_i))^2$$\n",
    "\n",
    "This is exactly what we used in our linear least squares example using linear algebra!\n",
    "\n",
    "![image](https://user-images.githubusercontent.com/7232635/44668546-b9896c80-a9eb-11e8-9b81-510eb68ecc19.png)\n",
    "\n",
    "A **residual**, $r$ is the distance between $y_{observed}$ and $y_{predicted}$\n",
    "\n",
    "$$r_i = y_{observed} - y_{predicted} = y_i - f(x_i)$$\n",
    "\n",
    "### Why Square the Error in RSS\n",
    "\n",
    "Squaring the error provides **nicer mathematical properties** when it comes **minimizing a cost function**. When minimizing a function, taking a **derivative** (or **gradient**) should come to mind. Taking a derivative of a **squared error** is a lot more friendly than a derivative of the **absolute value** of the error. A squared error is continuously differentiable (differentiable everywhere), whereas the absolute error is not continuously differentiable, since its derivative is undefined at $0$.\n",
    "\n",
    "**The absolute value of the error is not differentiable at 0:**\n",
    "![image](https://user-images.githubusercontent.com/7232635/44669524-15ed8b80-a9ee-11e8-8179-9e7e2ff63668.png)\n",
    "\n",
    "**WARNING:** Squared error punishes outliers heavily. This means that the outliers may end up dominating the error. For example, you could have a set of residuals, $R = [0.1, 0.4, 20, 0.3, 0.1]$. Though 4 of the residuals are very small, the one outlier $20$ will make the error very large, even though the function may model the values well apart from the single outlier.\n"
   ]
  },
  {
   "cell_type": "markdown",
   "metadata": {},
   "source": [
    "## Mean Squared Error (MSE) (L2 Loss) (Quadratic Loss)\n",
    "\n",
    "**MSE** is one of the most commonly used loss functions for regression. **MSE** is the average of the sum of square errors. **MSE** is proportional to **RSS**, since **MSE** is **RSS** divided by the total number of samples, $N$. $N$ can also be considered as the **number of degrees of freedom**.\n",
    "\n",
    "$$MSE = \\frac{1}{N}RSS  = \\frac{1}{N}\\sum(r_i)^2 = \\frac{1}{N}\\sum(y_i - f(x_i))^2$$\n",
    "\n",
    "![image](https://user-images.githubusercontent.com/7232635/44684599-7a711080-aa17-11e8-815e-4b62971268b4.png)"
   ]
  },
  {
   "cell_type": "markdown",
   "metadata": {},
   "source": [
    "## Mean Absolute Error (MAE) (L1 Loss)\n",
    "\n",
    "$$MAE = \\sum_{i=1}^{n}\\frac{|(y_i - x_i)|}{n}$$\n",
    "\n",
    "![image](https://user-images.githubusercontent.com/7232635/44684691-b73d0780-aa17-11e8-866d-9e3f0d6b8bf7.png)"
   ]
  },
  {
   "cell_type": "markdown",
   "metadata": {},
   "source": [
    "| MSE | MAE |\n",
    "|:----|:----|\n",
    "| squared error is easier to solve | absolute error is harder to solve |\n",
    "| less robust to outliers | more robust to outliers |\n",
    "\n",
    "Now that we have gone over some popular cost functions, we can derive the gradient descent algorithm. The gradient descent algorithm works for **any cost function**, there's not one specific cost function that gradient descent uses."
   ]
  },
  {
   "cell_type": "markdown",
   "metadata": {},
   "source": [
    "## Deriving the Gradient Descent Algorithm\n",
    "\n",
    "Suppose we are trying to fit a function $f(x)$ to a set of points. Since we can use **any cost function** that works best for our data when performing gradient descent, let's choose a cost function we have not seen yet for more practice. Let our cost function be the **least mean squares (LMS) cost function**. Our goal will be to minimize our cost function, $J(\\theta)$, and $J(\\theta)$ will be equal to the **LMS cost function**. $f(x_i)$ is the output of our function we fit for point $x_i$ and $y_i$ is our actual output:\n",
    "\n",
    "$$LMS = J(\\theta) = \\frac{1}{2}\\sum_{i=1}^{N}(f(x_i) - y_i)^2$$\n",
    "\n",
    "Given that we need to minimize this cost function, we will need to take the **derivative** of this cost function to minimize it. To make taking derivatives more clear,  let's suppose we have a **single training example**, the **$j$th training example**, so that we can remove the **summation** of the $N$ training examples.\n",
    "\n",
    "The following equation shows the result of taking the partial derivative of the **LMS** cost function with respect to $\\theta_j$:\n",
    "\n",
    "$$\\frac{\\partial}{\\partial\\theta_j}J(\\theta) = \\frac{\\partial}{\\partial\\theta_j}\\frac{1}{2}(f(x) - y)^2$$\n",
    "\n",
    "Using the **chain rule** we have:\n",
    "\n",
    "$$ \\frac{\\partial}{\\partial\\theta_j}J(\\theta) = 2 * \\frac{1}{2}(f(x) - y) * \\frac{\\partial}{\\partial\\theta_j}(f(x) - y) $$\n",
    "\n",
    "Sub in $\\sum_{i=1}^{N}\\theta_i \\cdot x_i$ for $f(x)$, since our function $f(x) = \\theta_0' + \\theta_1' \\cdot x_1 + ... + \\theta_N' \\cdot x_N $ that we are trying to fit to the points is of this structure:\n",
    "\n",
    "$$ \\frac{\\partial}{\\partial\\theta_j}J(\\theta) = (f(x) - y) \\cdot \\frac{\\partial}{\\partial\\theta_j}(\\theta_0 + \\sum_{i=1}^{N}\\theta_i' \\cdot x_i - y) $$\n",
    "\n",
    "$$ \\frac{\\partial}{\\partial\\theta_j}J(\\theta) = (f(x) - y) \\cdot x_j $$\n",
    "\n",
    "_Recall, in gradient descent, the theta update is captured by subtracting the **learning rate**, $\\alpha$, multiplied by the **gradient of the cost function**, $J$:_\n",
    "\n",
    "$\\alpha = $ learning rate\n",
    "\n",
    "$J(\\theta)$ = cost function\n",
    "\n",
    "$$\\theta := \\theta - \\alpha * \\frac{\\partial}{\\partial \\theta_j} J(\\theta) $$\n",
    "\n",
    "Since we know the derivative for a single training example, we can make an update to **theta** for a **single training example** by subbing in what we found for $\\frac{\\partial}{\\partial\\theta_j}J(\\theta)$:\n",
    "\n",
    "$$ \\theta_j := \\theta_j - \\alpha \\cdot (f(x) - y) \\cdot x_j$$\n",
    "\n",
    "Now, let's modify the theta update so that it can work for **multiple training examples** by reintroducing the summation:\n",
    "\n",
    "$$ \\theta_0 := \\theta_0 - \\alpha \\sum_{i=1}^{N} (f(x_i) - y_i) $$\n",
    "$$ \\theta_j := \\theta_j - \\alpha \\sum_{i=1}^{N} (f(x_i) - y_i) \\cdot x_j$$\n",
    "\n",
    "**Notice that $\\theta_0$'s cost gradient is different and does not include a dot product with $x_j$.** This is because our function, $f(x)$, we are using as our model is represented by: $f(x) = \\theta_0 + \\theta_1' \\cdot x_1 + ... + \\theta_N' \\cdot x_N $ and $\\theta_0$ is not dotted with $x$."
   ]
  },
  {
   "cell_type": "code",
   "execution_count": 2,
   "metadata": {},
   "outputs": [],
   "source": [
    "%matplotlib inline\n",
    "import numpy as np\n",
    "import pandas as pd\n",
    "from sklearn import preprocessing\n",
    "import matplotlib.pyplot as plt"
   ]
  },
  {
   "cell_type": "markdown",
   "metadata": {},
   "source": [
    "## Gradient Descent Example\n",
    "\n",
    "Suppose we are given a dataset: \n",
    "\n",
    "$X$ = $\\begin{bmatrix}\n",
    "    1 \\\\\n",
    "    2 \\\\\n",
    "    4 \\\\\n",
    "    3 \\\\\n",
    "    5\n",
    "\\end{bmatrix}$, $y$ = $\\begin{bmatrix}\n",
    "    1 \\\\\n",
    "    3 \\\\\n",
    "    3 \\\\\n",
    "    2 \\\\\n",
    "    5\n",
    "\\end{bmatrix}$"
   ]
  },
  {
   "cell_type": "code",
   "execution_count": 3,
   "metadata": {},
   "outputs": [],
   "source": [
    "train_X = np.array([[1], [2], [4], [3], [5]])\n",
    "train_y = np.array([[1], [3], [3], [2], [5]])"
   ]
  },
  {
   "cell_type": "markdown",
   "metadata": {},
   "source": [
    "The data when plotted looks like the figure below."
   ]
  },
  {
   "cell_type": "code",
   "execution_count": 5,
   "metadata": {},
   "outputs": [
    {
     "data": {
      "text/plain": [
       "[<matplotlib.lines.Line2D at 0x7f788c564908>]"
      ]
     },
     "execution_count": 5,
     "metadata": {},
     "output_type": "execute_result"
    },
    {
     "data": {
      "image/png": "[encoded data removed]",
      "text/plain": [
       "<Figure size 432x288 with 1 Axes>"
      ]
     },
     "metadata": {},
     "output_type": "display_data"
    }
   ],
   "source": [
    "plt.title('Original Data')\n",
    "plt.xlabel('X')\n",
    "plt.ylabel('y')\n",
    "plt.plot(train_X, train_y, 'ro')"
   ]
  },
  {
   "cell_type": "markdown",
   "metadata": {},
   "source": [
    "Our goal will be to use **gradient descent** to find a **line** that fits to the points which minimizes the **MSE Cost Function**.\n",
    "\n",
    "Recall, the **MSE** cost function can be represented as:\n",
    "\n",
    "$$ J(\\theta) = \\frac{1}{N}\\sum_{i=1}^{N}(f(x_i) - y_i)^2$$\n",
    "\n",
    "where:\n",
    "\n",
    "* $N$ is the number of training examples (the number of red points)\n",
    "* $x_i$ is the input vector for the `ith` training example\n",
    "* $y_i$ is the class label of the `ith` training example\n",
    "* $\\theta$ is the chosen parameter values (or weights), i.e. ($\\theta_0$, $\\theta_1$, ... $\\theta_N$)\n",
    "* $f(x_i)$ is the prediction for the `ith` training example using the parameters $\\theta$\n",
    "\n",
    "When performing gradient descent, we will need to compute the **gradient of the cost function**, $J_{grad}$:\n",
    "\n",
    "$$ \\frac{\\partial}{\\partial\\theta_j}MSE(\\theta) = \\frac{2}{N}\\sum_{i=1}^{N}(\\theta' \\cdot x_i - y_i) \\cdot x_i $$\n",
    "\n",
    "We need the **gradient of the cost function**, so that we can update the coefficients of the line we want to fit to our set of points. But how do we represent $ \\frac{\\partial}{\\partial\\theta_j}MSE(\\theta) = \\frac{2}{N}\\sum_{i=1}^{N}(\\theta' \\cdot x_i - y_i) \\cdot x_i $ in code?\n",
    "\n",
    "Let's use linear algebra, that way we won't have to use a lot of for loops. With linear algebra, the summation can be expressed with matrices as:\n",
    "\n",
    "$$\\frac{\\partial}{\\partial\\theta_j}J(\\theta) = \\frac{2}{N}\\sum_{i=1}^{N}(\\theta' \\cdot x_i - y_i) \\cdot x_i = \\frac{2}{N}[X' \\cdot (X \\cdot \\theta - Y)]$$\n",
    "\n",
    "For more information on how we derived this, read **Aside 1** at the bottom of this notebook."
   ]
  },
  {
   "cell_type": "markdown",
   "metadata": {},
   "source": [
    "## Normalize the Data Before Gradient Descent\n",
    "\n",
    "Before performing gradient descent, there's some preprocessing ([normalizing features](https://en.wikipedia.org/wiki/Feature_scaling)) that needs to be done to the data to allow for `faster convergence`. Do **MinMax normalization** on the data so that it falls within $[0, 1]$."
   ]
  },
  {
   "cell_type": "markdown",
   "metadata": {},
   "source": [
    "The **MinMax Normalization** Equation is represented as:\n",
    "\n",
    "$$X' = \\frac{X - X_{min}}{X_{max} - X_{min}}$$\n",
    "\n",
    "The figure below shows gradient descent with un-normalized and normalized data. After data normalization, you can see there's a lot less steps as there's not as many zig-zagging steps to find the minimum.\n",
    "\n",
    "![image](https://user-images.githubusercontent.com/7232635/44600279-cec18980-a7a6-11e8-84af-1a30169f0f62.png)"
   ]
  },
  {
   "cell_type": "code",
   "execution_count": 6,
   "metadata": {},
   "outputs": [],
   "source": [
    "# normalize features between [0, 1]\n",
    "def normalize(data):\n",
    "    return (data - data.min()) / (data.max() - data.min())"
   ]
  },
  {
   "cell_type": "markdown",
   "metadata": {},
   "source": [
    "Let's look at a plot of the data after it's been normalized. The values should be in $[0, 1]$"
   ]
  },
  {
   "cell_type": "code",
   "execution_count": 8,
   "metadata": {},
   "outputs": [
    {
     "data": {
      "text/plain": [
       "[<matplotlib.lines.Line2D at 0x7f788c443978>]"
      ]
     },
     "execution_count": 8,
     "metadata": {},
     "output_type": "execute_result"
    },
    {
     "data": {
      "image/png": "[encoded data removed]",
      "text/plain": [
       "<Figure size 432x288 with 1 Axes>"
      ]
     },
     "metadata": {},
     "output_type": "display_data"
    }
   ],
   "source": [
    "X_norm = normalize(train_X)\n",
    "y_norm = normalize(train_y)\n",
    "plt.title('Normalized Data')\n",
    "plt.xlabel('X normalized')\n",
    "plt.ylabel('y normalized')\n",
    "plt.plot(X_norm, y_norm, 'bo')"
   ]
  },
  {
   "cell_type": "markdown",
   "metadata": {},
   "source": [
    "## Add a Column of Ones to X\n",
    "\n",
    "Recall, when performing gradient descent, we will be performing the $\\theta$ update with: $$\\frac{\\partial}{\\partial\\theta_j}J(\\theta) = \\frac{2}{N}[X' \\cdot (X \\cdot \\theta - Y)]$$\n",
    "\n",
    "To take the dot product for $X\\theta$, we will need to concatenate a column of ones to X. This is because the first $\\theta_0$ is not being multiplied by $x$."
   ]
  },
  {
   "cell_type": "code",
   "execution_count": 12,
   "metadata": {},
   "outputs": [
    {
     "data": {
      "text/plain": [
       "array([[1.  , 0.  ],\n",
       "       [1.  , 0.25],\n",
       "       [1.  , 0.75],\n",
       "       [1.  , 0.5 ],\n",
       "       [1.  , 1.  ]])"
      ]
     },
     "execution_count": 12,
     "metadata": {},
     "output_type": "execute_result"
    }
   ],
   "source": [
    "# prepare X by concatenating a column of rows\n",
    "column_of_ones = np.ones((len(y_norm), 1))\n",
    "X_norm = np.concatenate((column_of_ones, X_norm), axis=1)\n",
    "X_norm"
   ]
  },
  {
   "cell_type": "markdown",
   "metadata": {},
   "source": [
    "## Initialize Theta\n",
    "\n",
    "How you choose your initial $\\theta$ (coefficients of your line you fit to the data) depends on whether or not you **normalized** your data before performing gradient descent.\n",
    "\n",
    "| Normalized Data | Non-Normalized Data |\n",
    "|:--------------- |:--------------------|\n",
    "| initialize theta to **zeros** as data is normalized around **0** | must pick a **smart starting point** for $\\theta$ close to where you think the optimum is (which may not be around 0) |\n",
    "| will take less steps to converge | will take more steps to converge |\n",
    "\n",
    "#### Example\n",
    "\n",
    "Suppose your data is **normalized** by performing **minmax normalization** (see below for formula) so that the data are in the set $[0, 1]$. Suppose $X = [[0.5], [-0.25], [0.75]], y = [[0.1], [0.2], [-0.3]]$. \n",
    "\n",
    "It's known that $dim(X) = (3, 1)$. $X$ has $3$ **rows** and $1$ **feature**. \n",
    "\n",
    "Given this information, we should initialize theta such that $dim(\\theta) = (len(features) + 1, 1) = (2, 1)$. \n",
    "\n",
    "Therefore, $\\theta_{initial} = [[0.], [0.]]$\n",
    "\n",
    "Using X_norm, initialize $\\theta$ to the correct size and all of its values should be zeros, since we normalized our data."
   ]
  },
  {
   "cell_type": "code",
   "execution_count": 13,
   "metadata": {},
   "outputs": [
    {
     "data": {
      "text/plain": [
       "(2, 1)"
      ]
     },
     "execution_count": 13,
     "metadata": {},
     "output_type": "execute_result"
    }
   ],
   "source": [
    "# theta is number of features + 1 (the +1 is for the intercept)\n",
    "theta = np.zeros((X_norm.shape[1], 1))\n",
    "theta.shape"
   ]
  },
  {
   "cell_type": "markdown",
   "metadata": {},
   "source": [
    "Now that we have normalized $X$, added a column of $1$s to $X$, and initialized $\\theta$, we can write the gradient descent algorithm."
   ]
  },
  {
   "cell_type": "markdown",
   "metadata": {},
   "source": [
    "## Gradient Descent Implementation\n",
    "\n",
    "The following code implements gradient descent. Specifically, the cost_gradient computes: \n",
    "\n",
    "$$\\frac{\\partial}{\\partial\\theta_j}J(\\theta) = \\frac{2}{N}[X' \\cdot (X \\cdot \\theta - Y)]$$\n",
    "\n",
    "Again, if the implementation is unclear, refer to Aside 1 for a more visual representation with matrices."
   ]
  },
  {
   "cell_type": "code",
   "execution_count": 15,
   "metadata": {},
   "outputs": [
    {
     "name": "stdout",
     "output_type": "stream",
     "text": [
      "[[0.05650421]\n",
      " [0.7882648 ]]\n"
     ]
    }
   ],
   "source": [
    "def cost(X, y, theta):\n",
    "    m = len(y)\n",
    "    hypothesis = np.dot(X, theta)\n",
    "    error = hypothesis - y\n",
    "    return (1.0 / m) * np.sum(error**2)\n",
    "\n",
    "def cost_gradient(X, y, theta):\n",
    "    m = len(y)\n",
    "    hypothesis = np.dot(X, theta)         # step 1\n",
    "    error = hypothesis - y                # step 2\n",
    "    return (2.0 / m) * np.dot(X.T, error) # step 3\n",
    "\n",
    "def gradient_descent(max_epochs, tolerance, X, y, theta, learning_rate):\n",
    "    costs = []\n",
    "    curr_epoch = 0\n",
    "    while (curr_epoch < max_epochs):\n",
    "        # update theta\n",
    "        theta = theta - learning_rate * cost_gradient(X, y, theta)\n",
    "        \n",
    "        # update cost\n",
    "        J = cost(X, y, theta)\n",
    "        \n",
    "        if curr_epoch % 10 == 0:\n",
    "            costs.append(J)\n",
    "                \n",
    "        curr_epoch += 1\n",
    "    return theta, costs\n",
    "\n",
    "max_epochs = 2000\n",
    "tolerance = 0.001\n",
    "learning_rate = 0.01\n",
    "final_theta, costs = gradient_descent(max_epochs, tolerance, X_norm, y_norm, theta, learning_rate)\n",
    "\n",
    "print(final_theta)"
   ]
  },
  {
   "cell_type": "markdown",
   "metadata": {},
   "source": [
    "Let's plot our line we found that best fits the points given that we know our $\\theta$ parameters."
   ]
  },
  {
   "cell_type": "code",
   "execution_count": 16,
   "metadata": {},
   "outputs": [
    {
     "data": {
      "text/plain": [
       "[<matplotlib.lines.Line2D at 0x7f788c3d37f0>,\n",
       " <matplotlib.lines.Line2D at 0x7f788c3d3978>]"
      ]
     },
     "execution_count": 16,
     "metadata": {},
     "output_type": "execute_result"
    },
    {
     "data": {
      "image/png": "[encoded data removed]",
      "text/plain": [
       "<Figure size 432x288 with 1 Axes>"
      ]
     },
     "metadata": {},
     "output_type": "display_data"
    }
   ],
   "source": [
    "plt.plot(X_norm[:, 1], y_norm, 'ro', X_norm[:, 1], np.dot(X_norm, final_theta), 'b')"
   ]
  },
  {
   "cell_type": "markdown",
   "metadata": {},
   "source": [
    "This isn't bad. We were pretty lucky when choosing our learning rate of $0.01$. What if we didn't choose a good learning rate for this optimization. How would the fit change? Let's plot the results of gradient descent using different learning rates:"
   ]
  },
  {
   "cell_type": "markdown",
   "metadata": {},
   "source": [
    "## Analyzing How Learning Rates Affect Error\n",
    "\n",
    "The learning rate that performed the best and had the lowest error was $0.1$ and had the fastest convergence. The worst performing learning rate was $0.0001$ and didn't finish converging on the minimum since the error never leveled out. If we had used more than $2000$ epochs, then we would have had more steps to reach the minimum, so the $0.0001$ learning rate could have done better."
   ]
  },
  {
   "cell_type": "code",
   "execution_count": 17,
   "metadata": {},
   "outputs": [
    {
     "data": {
      "image/png": "[encoded data removed]",
      "text/plain": [
       "<Figure size 1080x1800 with 8 Axes>"
      ]
     },
     "metadata": {},
     "output_type": "display_data"
    }
   ],
   "source": [
    "max_epochs = 2000\n",
    "tolerance = 0.001\n",
    "learning_rates = [0.1, 0.01, 0.001, 0.0001]\n",
    "epochs = [ epoch for epoch in range(max_epochs) if (epoch % 10 == 0)]\n",
    "\n",
    "fig, axes = plt.subplots(len(learning_rates), 2, figsize=(15, 25))\n",
    "\n",
    "for i, learning_rate in enumerate(learning_rates):\n",
    "    final_theta, costs = gradient_descent(max_epochs, tolerance, X_norm, y_norm, theta, learning_rate)\n",
    "    \n",
    "    axes[i][0].set_title('Gradient Descent with Learning Rate {}'.format(learning_rate))\n",
    "    axes[i][0].set_xlabel('Epoch')\n",
    "    axes[i][0].set_ylabel('Error')\n",
    "    axes[i][0].plot(epochs, costs, 'b')\n",
    "    \n",
    "    least_cost = costs[-1]\n",
    "    axes[i][1].set_title(f'Line of best fit for normalized data. Least Error: {least_cost:.6f}'.format(least_cost))\n",
    "    axes[i][1].set_xlabel('X normalized')\n",
    "    axes[i][1].set_ylabel('y normalized')\n",
    "    axes[i][1].plot(X_norm[:, 1], y_norm, 'ro', X_norm[:, 1], np.dot(X_norm, final_theta), 'b')"
   ]
  },
  {
   "cell_type": "markdown",
   "metadata": {},
   "source": [
    "## Learning Rate\n",
    "\n",
    "Too high of a learning rate and gradient descent will **diverge**, too low a learning rate and gradient descent will take an **extremely long time to converge**.\n",
    "\n",
    "![image](https://user-images.githubusercontent.com/7232635/44600184-81ddb300-a7a6-11e8-9fc8-b14ea0f0ccb4.png)\n",
    "\n",
    "Typically, you would select a learning rate in the range $[0.1, 0.00001]$."
   ]
  },
  {
   "cell_type": "markdown",
   "metadata": {},
   "source": [
    "## Conclusion\n",
    "\n",
    "We have now implemented gradient descent to minimize the MSE cost function. We used calculus rather than the linear algebra method at the beginning, since computing the inverse is expensive.\n",
    "\n",
    "Even though we found that gradient descent with calculus is more practical to use than the linear algebra method, there are some limitations with gradient descent.\n",
    "\n",
    "### Limitations of Gradient Descent\n",
    "\n",
    "* Only works for problems which have a `well-defined convex optimization` problem \n",
    "* Does poorly with `non-convex` and `non-strongly convex` optimization problems\n",
    "* Suffers with `saddle points` and multiple local minima\n",
    "\n",
    "Below we have examples of these optimization problems:\n",
    "\n",
    "#### Well-Defined Convex Optimization Problem\n",
    "\n",
    "![image](https://user-images.githubusercontent.com/7232635/44543527-c6514c00-a6dd-11e8-894d-5c5ec6396c4a.png)\n",
    "\n",
    "#### Non-Convex Optimization Problem\n",
    "\n",
    "![image](https://user-images.githubusercontent.com/7232635/44543469-9bff8e80-a6dd-11e8-86e9-72f46df21ee6.png)\n",
    "\n",
    "#### Non-Strongly Convex Optimization Problem\n",
    "\n",
    "![image](https://user-images.githubusercontent.com/7232635/44543891-d4ec3300-a6de-11e8-931e-49b39ddbf2de.png)\n",
    "\n",
    "#### Saddle Point\n",
    "\n",
    "![image](https://user-images.githubusercontent.com/7232635/44543643-1d572100-a6de-11e8-9826-28bcca8ca6b5.png)\n",
    "\n",
    "Specifically for saddle points, gradient descent or stochastic gradient descent may not perform nearly as well as other optimization algorithms like Adagrad, Adadelta, and RMSprop."
   ]
  },
  {
   "cell_type": "code",
   "execution_count": 19,
   "metadata": {},
   "outputs": [
    {
     "data": {
      "text/html": [
       "<img src=\"https://www.jeremyjordan.me/content/images/2018/01/opt1.gif\"/>"
      ],
      "text/plain": [
       "<IPython.core.display.Image object>"
      ]
     },
     "execution_count": 19,
     "metadata": {},
     "output_type": "execute_result"
    }
   ],
   "source": [
    "from IPython.display import Image\n",
    "Image(url='https://www.jeremyjordan.me/content/images/2018/01/opt1.gif')"
   ]
  },
  {
   "cell_type": "markdown",
   "metadata": {},
   "source": [
    "# Resources\n",
    "\n",
    "A lot of the equations and some figures from this notebook come from [Andrew Ng's Lecture Material](http://cs229.stanford.edu/notes/cs229-notes1.pdf). If any pieces of gradient descent are unclear, this is a very good resource to gain a deeper understanding."
   ]
  },
  {
   "cell_type": "markdown",
   "metadata": {},
   "source": [
    "# Aside 1\n",
    "\n",
    "We will derive how the partial derivative of the MSE Cost Function can be written as matrices: \n",
    "$\\frac{\\partial}{\\partial\\theta_j}J(\\theta) = \\frac{2}{N}\\sum_{i=1}^{N}(\\theta' \\cdot x_i - y_i) \\cdot x_i = \\frac{2}{N}[X' \\cdot (X \\cdot \\theta - Y)]$:\n",
    "\n",
    "The summation is really just a dot product, so we can represent the cost function as: $\\frac{2}{N}[X' \\cdot (X \\cdot \\theta - Y)]$ Let's analyze how we reached this equation from the summation expression step by step.\n",
    "\n",
    "Before we begin translating the summation expression to a matrix expression, we need to address how we can handle the $ X \\cdot \\theta $ part. Notice that the dimensions of $X$ and $\\theta$ do not match, since there's an extra $\\theta_0$ in $\\theta$. This $\\theta_0$ should not multiplied by any $X$ value, so we should fix the dimension mismatch problem by adding a column of ones to $X$:\n",
    "\n",
    "$X$ = $\\begin{bmatrix}\n",
    "    1 & x_{11} & x_{12} & x_{13} & \\dots & x_{1N} \\\\\n",
    "    1 & x_{21} & x_{22} & x_{23} & \\dots & x_{2N} \\\\\n",
    "    1 & \\vdots & \\vdots & \\vdots & \\ddots & \\vdots \\\\\n",
    "    1 & x_{M1}  & x_{M2} & x_{M3} & \\dots & x_{MN}\n",
    "\\end{bmatrix}$ a $M x (N+1)$ matrix\n",
    "\n",
    "**Step 1:** Now, we can start by solving the $ X \\cdot \\theta $ part of the equation. Notice that the first term in each linear equation is the $\\theta_0$'s. This was possible by adding the column of 1's to $X$ before performing the dot product:\n",
    "\n",
    "$X \\cdot \\theta$ = $\\begin{bmatrix}\n",
    "    \\theta_0 + \\theta_1 x_{11} + \\theta_2 x_{12} + \\theta_3 x_{13} + \\dots + \\theta_N x_{1N} \\\\\n",
    "    \\theta_0 + \\theta_1 x_{21} + \\theta_2 x_{22} + \\theta_3 x_{23} + \\dots + \\theta_N x_{2N} \\\\\n",
    "    \\dots \\\\\n",
    "    \\theta_0 + \\theta_1 x_{M1} + \\theta_2 x_{M2} + \\theta_3 x_{M3} + \\dots + \\theta_N x_{MN}\n",
    "\\end{bmatrix}$ a $M x 1$ matrix\n",
    "\n",
    "**Step 2:** Next, subtract Y:\n",
    "\n",
    "$X \\cdot \\theta - Y$ = $\\begin{bmatrix}\n",
    "    \\theta_0 + \\theta_1 x_{11} + \\theta_2 x_{12} + \\theta_3 x_{13} + \\dots + \\theta_N x_{1N} - y_{1} \\\\\n",
    "    \\theta_0 + \\theta_1 x_{21} + \\theta_2 x_{22} + \\theta_3 x_{23} + \\dots + \\theta_N x_{2N} - y_{2} \\\\\n",
    "    \\dots \\\\\n",
    "    \\theta_0 + \\theta_1 x_{M1} + \\theta_2 x_{M2} + \\theta_3 x_{M3} + \\dots + \\theta_N x_{MN} - y_{M}\n",
    "\\end{bmatrix}$ a $M x 1$ matrix\n",
    "\n",
    "**Step 3:** Now take the dot product of that result transposed with $X$ and multiply the resulting product by the coefficient $\\frac{2}{N}$:\n",
    "\n",
    "$\\frac{2}{N} [X' \\cdot (X \\cdot \\theta - Y)] = \\frac{2}{N} \\begin{bmatrix}\n",
    "    1 & x_{11} & x_{12} & x_{13} & \\dots & x_{1N} \\\\\n",
    "    1 & x_{21} & x_{22} & x_{23} & \\dots & x_{2N} \\\\\n",
    "    1 & \\vdots & \\vdots & \\vdots & \\ddots & \\vdots \\\\\n",
    "    1 & x_{M1}  & x_{M2} & x_{M3} & \\dots & x_{MN}\n",
    "\\end{bmatrix}' \\cdot \\begin{bmatrix}\n",
    "    \\theta_0 + \\theta_1 x_{11} + \\theta_2 x_{12} + \\theta_3 x_{13} + \\dots + \\theta_N x_{1N} - y_{1} \\\\\n",
    "    \\theta_0 + \\theta_1 x_{21} + \\theta_2 x_{22} + \\theta_3 x_{23} + \\dots + \\theta_N x_{2N} - y_{2} \\\\\n",
    "    \\dots \\\\\n",
    "    \\theta_0 + \\theta_1 x_{M1} + \\theta_2 x_{M2} + \\theta_3 x_{M3} + \\dots + \\theta_N x_{MN} - y_{M}\n",
    "\\end{bmatrix} $ a $(N+1) x 1$ matrix\n",
    "\n",
    "The final dimension $(N+1) x 1$ is desired as it is the same dimension as $\\theta$, so we can use this value to update $\\theta$ to move along the direction of the gradient.\n",
    "\n",
    "Therefore, \n",
    "\n",
    "$$grad_J(\\theta) = \\frac{2}{N}\\sum_{i=1}^{N}(\\theta' \\cdot x_i - y_i) \\cdot x_i = \\frac{2}{N}[X' \\cdot (X \\cdot \\theta - Y)]$$\n",
    "\n",
    "In the implementation below, you should see this exact implementation in the **cost_gradient** function with the corresponding steps 1, 2, and 3 labeled in the comments.\n",
    "\n",
    "**Note:** If the order of the **transpose** for the summation's $\\theta'x$ and the matrices version $X\\theta$ is confusing, see [this post](https://math.stackexchange.com/questions/1478128/for-linear-regression-compute-theta-t-x). The reason for the difference in order and transpose is due to the former dealing with a **single training example** and the latter dealing with **a matrix of training examples**."
   ]
  }
 ],
 "metadata": {
  "kernelspec": {
   "display_name": "Python 3",
   "language": "python",
   "name": "python3"
  },
  "language_info": {
   "codemirror_mode": {
    "name": "ipython",
    "version": 3
   },
   "file_extension": ".py",
   "mimetype": "text/x-python",
   "name": "python",
   "nbconvert_exporter": "python",
   "pygments_lexer": "ipython3",
   "version": "3.6.5"
  }
 },
 "nbformat": 4,
 "nbformat_minor": 2
}
