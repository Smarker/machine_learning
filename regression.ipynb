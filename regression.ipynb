{
 "cells": [
  {
   "cell_type": "code",
   "execution_count": 2,
   "metadata": {},
   "outputs": [],
   "source": [
    "%matplotlib inline\n",
    "import numpy as np\n",
    "import pandas as pd\n",
    "from sklearn import preprocessing\n",
    "import matplotlib.pyplot as plt"
   ]
  },
  {
   "cell_type": "markdown",
   "metadata": {},
   "source": [
    "# Cost Functions\n",
    "\n",
    "Cost functions are a measurement of the performance of the model. To find a model that best fits the data, use a cost function. Minimizing the cost function lends to better models, as a low cost would imply that the predictions are not far from the actual values. In the following section, we will see how making small tweaks to parameters of the model with the goal of minimizing the cost outputs a model that fits to the data well.\n",
    "\n",
    "Two such cost functions are **residual sum of squares (RSS)** and **mean squared error (MSE)**."
   ]
  },
  {
   "cell_type": "markdown",
   "metadata": {},
   "source": [
    "## Residual Sum of Squares (RSS)\n",
    "\n",
    "**RSS** is a measure of the discrepancy, or error, between the data and function modelling the data.\n",
    "\n",
    "**RSS** is the **sum of squared residuals** (or sum of squared error). \n",
    "\n",
    "$$RSS = \\sum_{i=1}^{n}(y_i - f(x_i))^2$$\n",
    "\n",
    "![image](https://user-images.githubusercontent.com/7232635/44668546-b9896c80-a9eb-11e8-9b81-510eb68ecc19.png)\n",
    "\n",
    "A **residual**, $r$ is the distance between $y_{observed}$ and $y_{predicted}$\n",
    "\n",
    "$$r_i = y_{observed} - y_{predicted} = y_i - f(x_i)$$\n",
    "\n",
    "### Why Square the Error in RSS\n",
    "\n",
    "Squaring the error provides **nicer mathematical properties** when it comes **minimizing a cost function**. When minimizing a function, taking a **derivative** (or **gradient**) should come to mind. Taking a derivative of a **squared error** is a lot more friendly than a derivative of the **absolute value** of the error. A squared error is continuously differentiable (differentiable everywhere), whereas the absolute error is not continuously differentiable, since its derivative is undefined at $0$.\n",
    "\n",
    "**The absolute value of the error is not differentiable at 0:**\n",
    "![image](https://user-images.githubusercontent.com/7232635/44669524-15ed8b80-a9ee-11e8-8179-9e7e2ff63668.png)\n",
    "\n",
    "**WARNING:** Squared error punishes outliers heavily. This means that the outliers may end up dominating the error. For example, you could have a set of residuals, $R = [0.1, 0.4, 20, 0.3, 0.1]$. Though 4 of the residuals are very small, the one outlier $20$ will make the error very large, even though the function may model the values well apart from the single outlier.\n"
   ]
  },
  {
   "cell_type": "markdown",
   "metadata": {},
   "source": [
    "## Mean Squared Error (MSE) (L2 Loss) (Quadratic Loss)\n",
    "\n",
    "**MSE** is one of the most commonly used loss functions for regression. **MSE** is the average of the sum of square errors. **MSE** is proportional to **RSS**, since **MSE** is **RSS** divided by the total number of samples, $N$. $N$ can also be considered as the **number of degrees of freedom**.\n",
    "\n",
    "$$MSE = \\frac{1}{N}RSS  = \\frac{1}{N}\\sum(r_i)^2 = \\frac{1}{N}\\sum(y_i - f(x_i))^2$$\n",
    "\n",
    "![image](https://user-images.githubusercontent.com/7232635/44684599-7a711080-aa17-11e8-815e-4b62971268b4.png)"
   ]
  },
  {
   "cell_type": "markdown",
   "metadata": {},
   "source": [
    "## Mean Absolute Error (MAE) (L1 Loss)\n",
    "\n",
    "$$MAE = \\sum_{i=1}^{n}\\frac{|(y_i - x_i)|}{n}$$\n",
    "\n",
    "![image](https://user-images.githubusercontent.com/7232635/44684691-b73d0780-aa17-11e8-866d-9e3f0d6b8bf7.png)"
   ]
  },
  {
   "cell_type": "markdown",
   "metadata": {},
   "source": [
    "## Summary\n",
    "\n",
    "| MSE | MAE |\n",
    "|:----|:----|\n",
    "| squared error is easier to solve | absolute error is harder to solve |\n",
    "| less robust to outliers | more robust to outliers |"
   ]
  },
  {
   "cell_type": "markdown",
   "metadata": {},
   "source": [
    "# Gradient Descent\n",
    "\n",
    "Gradient descent is an **optimization algorithm** used to **minimize** some cost function by **iteratively** moving in the **direction of steepest descent** as defined by the **negative of the gradient**. At each iteration, **theta** (the vector of coefficients of the model function) will be updated.\n",
    "\n",
    "The theta update is captured by subtracting the **learning rate**, _alpha_, multiplied by the **gradient of the cost function**, $J$:\n",
    "\n",
    "$\\alpha = $ learning rate\n",
    "\n",
    "$J(\\theta)$ = cost function\n",
    "\n",
    "$$\\theta := \\theta - \\alpha * \\frac{\\partial}{\\partial \\theta_j} J(\\theta) $$\n",
    "\n",
    "![image](https://user-images.githubusercontent.com/7232635/44599603-e13ac380-a7a4-11e8-8e91-2b3cba9d231f.png)\n",
    "\n",
    "(In the diagram above, you can think of the **initial weight** as the initial $\\theta$ or coefficients in $f(x)$)"
   ]
  },
  {
   "cell_type": "markdown",
   "metadata": {},
   "source": [
    "## Deriving the Gradient Descent Algorithm\n",
    "\n",
    "Choose a cost function, $J$, to minimize. For this derivation let's use another cost function called the **least mean squares (LMS) cost function**.\n",
    "\n",
    "$$LMS = J(\\theta) = \\frac{1}{2}\\sum_{i=1}^{N}(f(x_i) - y_i)^2$$\n",
    "\n",
    "Suppose we have a **single training example** to remove the summation of the $N$ training examples and make the derivative more clear. Since we want to minimize this cost function, we will take its derivative:\n",
    "\n",
    "$$\\frac{\\partial}{\\partial\\theta_j}J(\\theta) = \\frac{\\partial}{\\partial\\theta_j}\\frac{1}{2}(f(x) - y)^2$$\n",
    "\n",
    "Using the **chain rule**:\n",
    "\n",
    "$$ = 2 * \\frac{1}{2}(f(x) - y) * \\frac{\\partial}{\\partial\\theta_j}(f(x) - y) $$\n",
    "\n",
    "Sub in $\\sum_{i=1}^{N}\\theta_i \\cdot x_i$ for $f(x)$, since $f(x) = \\theta_0' + \\theta_1' \\cdot x_1 + ... + \\theta_N' \\cdot x_N $:\n",
    "\n",
    "$$ = (f(x) - y) \\cdot \\frac{\\partial}{\\partial\\theta_j}(\\theta_0 + \\sum_{i=1}^{N}\\theta_i' \\cdot x_i - y) $$\n",
    "\n",
    "$$ = (f(x) - y) \\cdot x_j $$\n",
    "\n",
    "Now, that we know the derivative for a single training example, we can make an update to **theta** for a **single training example**:\n",
    "\n",
    "$$ \\theta_j := \\theta_j - \\alpha \\cdot (f(x) - y) \\cdot x_j$$\n",
    "\n",
    "Now, let's modify the theta update so that it can work for **multiple training examples** by reintroducing the summation:\n",
    "\n",
    "$$ \\theta_0 := \\theta_0 - \\alpha \\sum_{i=1}^{N} (f(x_i) - y_i) $$\n",
    "$$ \\theta_j := \\theta_j - \\alpha \\sum_{i=1}^{N} (f(x_i) - y_i) \\cdot x_j$$\n",
    "\n",
    "**Notice that $\\theta_0$'s cost gradient is different and does not include a dot product with $x_j$.** This is because our function, $f(x)$, we are using as our model is represented by: $f(x) = \\theta_0 + \\theta_1' \\cdot x_1 + ... + \\theta_N' \\cdot x_N $"
   ]
  },
  {
   "cell_type": "markdown",
   "metadata": {},
   "source": [
    "# Gradient Descent Example\n",
    "\n",
    "Recall, the **MSE** cost function can be represented as:\n",
    "\n",
    "$$ J(\\theta) = \\frac{1}{N}\\sum_{i=1}^{N}(f(x_i) - y_i)^2$$\n",
    "\n",
    "where:\n",
    "\n",
    "* $N$ is the number of training examples\n",
    "* $x_i$ is the input vector for the `ith` training example\n",
    "* $y_i$ is the class label of the `ith` training example\n",
    "* $\\theta$ is the chosen parameter values (or weights), i.e. ($\\theta_0$, $\\theta_1$, ... $\\theta_N$)\n",
    "* $f(x_i)$ is the prediction for the `ith` training example using the parameters $\\theta$\n",
    "\n",
    "When performing gradient descent, we will need to compute the **gradient of the cost function**, $J_{grad}$:\n",
    "\n",
    "**Note:** By convention, $\\theta$ is written as a **column vector**, hence the need to transpose it before taking the dot product with $X$\n",
    "\n",
    "$$ \\frac{\\partial}{\\partial\\theta_j}MSE(\\theta) = \\frac{2}{N}\\sum_{i=1}^{N}(\\theta' \\cdot x_i - y_i) \\cdot x_i $$\n",
    "\n",
    "Suppose we are given the below data and are asked to perform gradient descent using the **MSE Cost Function**:\n",
    "\n",
    "# TODO convert to matrix form\n",
    "```\n",
    "X = np.array([[1], [2], [4], [3], [5]])\n",
    "y = np.array([[1], [3], [3], [2], [5]])\n",
    "```"
   ]
  },
  {
   "cell_type": "markdown",
   "metadata": {},
   "source": [
    "Before going into the code, let's break down what $ \\frac{2}{N}\\sum_{i=1}^{N}(\\theta' \\cdot x_i - y_i) \\cdot x_i $  represents. This equation can be represented as a system of linear equations, so we can rewrite this expression using only  matrices. \n",
    "\n",
    "Let:\n",
    "\n",
    "$M$ be the number of training examples (or rows in $X$)\n",
    "\n",
    "$N$ be the number of features (or columns in $X$)\n",
    "\n",
    "$X$ be a $M x N$ matrix\n",
    "\n",
    "$Y$ be a $M x 1$ matrix\n",
    "\n",
    "$\\theta$ be a $ (N+1) x 1 $ matrix\n",
    "\n",
    "So...\n",
    "\n",
    "$X$ = $\\begin{bmatrix}\n",
    "    x_{11} & x_{12} & x_{13} & \\dots & x_{1N} \\\\\n",
    "    x_{21} & x_{22} & x_{23} & \\dots & x_{2N} \\\\\n",
    "    \\vdots & \\vdots & \\vdots & \\ddots & \\vdots \\\\\n",
    "    x_{M1}  & x_{M2} & x_{M3} & \\dots & x_{MN}\n",
    "\\end{bmatrix}$ a $M x N$ matrix\n",
    "\n",
    "$Y$ = $\\begin{bmatrix}\n",
    "    y_{1} \\\\\n",
    "    y_{2} \\\\\n",
    "    \\vdots \\\\\n",
    "    y_{M} \\\\\n",
    "\\end{bmatrix}$ a $M x 1$ matrix\n",
    "\n",
    "$\\theta$ = $\\begin{bmatrix}\n",
    "    \\theta_{0} \\\\\n",
    "    \\theta_{1} \\\\\n",
    "    \\vdots \\\\\n",
    "    \\theta_{N} \\\\\n",
    "\\end{bmatrix}$ a $(N+1) x 1$ matrix"
   ]
  },
  {
   "cell_type": "markdown",
   "metadata": {},
   "source": [
    "The summation is really just a dot product, so we can represent the cost function as: $\\frac{2}{N}[X' \\cdot (X \\cdot \\theta - Y)]$ Let's analyze how we reached this equation from the summation expression step by step.\n",
    "\n",
    "Before we begin translating the summation expression to a matrix expression, we need to address how we can handle the $ X \\cdot \\theta $ part. Notice that the dimensions of $X$ and $\\theta$ do not match, since there's an extra $\\theta_0$ in $\\theta$. This $\\theta_0$ should not multiplied by any $X$ value, so we should fix the dimension mismatch problem by adding a column of ones to $X$:\n",
    "\n",
    "$X$ = $\\begin{bmatrix}\n",
    "    1 & x_{11} & x_{12} & x_{13} & \\dots & x_{1N} \\\\\n",
    "    1 & x_{21} & x_{22} & x_{23} & \\dots & x_{2N} \\\\\n",
    "    1 & \\vdots & \\vdots & \\vdots & \\ddots & \\vdots \\\\\n",
    "    1 & x_{M1}  & x_{M2} & x_{M3} & \\dots & x_{MN}\n",
    "\\end{bmatrix}$ a $M x (N+1)$ matrix\n",
    "\n",
    "**Step 1:** Now, we can start by solving the $ X \\cdot \\theta $ part of the equation. Notice that the first term in each linear equation is the $\\theta_0$'s. This was possible by adding the column of 1's to $X$ before performing the dot product:\n",
    "\n",
    "$X \\cdot \\theta$ = $\\begin{bmatrix}\n",
    "    \\theta_0 + \\theta_1 x_{11} + \\theta_2 x_{12} + \\theta_3 x_{13} + \\dots + \\theta_N x_{1N} \\\\\n",
    "    \\theta_0 + \\theta_1 x_{21} + \\theta_2 x_{22} + \\theta_3 x_{23} + \\dots + \\theta_N x_{2N} \\\\\n",
    "    \\dots \\\\\n",
    "    \\theta_0 + \\theta_1 x_{M1} + \\theta_2 x_{M2} + \\theta_3 x_{M3} + \\dots + \\theta_N x_{MN}\n",
    "\\end{bmatrix}$ a $M x 1$ matrix\n",
    "\n",
    "**Step 2:** Next, subtract Y:\n",
    "\n",
    "$X \\cdot \\theta - Y$ = $\\begin{bmatrix}\n",
    "    \\theta_0 + \\theta_1 x_{11} + \\theta_2 x_{12} + \\theta_3 x_{13} + \\dots + \\theta_N x_{1N} - y_{1} \\\\\n",
    "    \\theta_0 + \\theta_1 x_{21} + \\theta_2 x_{22} + \\theta_3 x_{23} + \\dots + \\theta_N x_{2N} - y_{2} \\\\\n",
    "    \\dots \\\\\n",
    "    \\theta_0 + \\theta_1 x_{M1} + \\theta_2 x_{M2} + \\theta_3 x_{M3} + \\dots + \\theta_N x_{MN} - y_{M}\n",
    "\\end{bmatrix}$ a $M x 1$ matrix\n",
    "\n",
    "**Step 3:** Now take the dot product of that result transposed with $X$ and multiply the resulting product by the coefficient $\\frac{2}{N}$:\n",
    "\n",
    "$\\frac{2}{N} [X' \\cdot (X \\cdot \\theta - Y)] = \\frac{2}{N} \\begin{bmatrix}\n",
    "    1 & x_{11} & x_{12} & x_{13} & \\dots & x_{1N} \\\\\n",
    "    1 & x_{21} & x_{22} & x_{23} & \\dots & x_{2N} \\\\\n",
    "    1 & \\vdots & \\vdots & \\vdots & \\ddots & \\vdots \\\\\n",
    "    1 & x_{M1}  & x_{M2} & x_{M3} & \\dots & x_{MN}\n",
    "\\end{bmatrix}' \\cdot \\begin{bmatrix}\n",
    "    \\theta_0 + \\theta_1 x_{11} + \\theta_2 x_{12} + \\theta_3 x_{13} + \\dots + \\theta_N x_{1N} - y_{1} \\\\\n",
    "    \\theta_0 + \\theta_1 x_{21} + \\theta_2 x_{22} + \\theta_3 x_{23} + \\dots + \\theta_N x_{2N} - y_{2} \\\\\n",
    "    \\dots \\\\\n",
    "    \\theta_0 + \\theta_1 x_{M1} + \\theta_2 x_{M2} + \\theta_3 x_{M3} + \\dots + \\theta_N x_{MN} - y_{M}\n",
    "\\end{bmatrix} $ a $(N+1) x 1$ matrix\n",
    "\n",
    "The final dimension $(N+1) x 1$ is desired as it is the same dimension as $\\theta$, so we can use this value to update $\\theta$ to move along the direction of the gradient.\n",
    "\n",
    "Therefore, \n",
    "\n",
    "$$grad_J(\\theta) = \\frac{2}{N}\\sum_{i=1}^{N}(\\theta' \\cdot x_i - y_i) \\cdot x_i = \\frac{2}{N}[X' \\cdot (X \\cdot \\theta - Y)]$$\n",
    "\n",
    "In the implementation below, you should see this exact implementation in the **cost_gradient** function with the corresponding steps 1, 2, and 3 labeled in the comments.\n",
    "\n",
    "**Note:** If the order of the **transpose** for the summation's $\\theta'x$ and the matrices version $X\\theta$ is confusing, see [this post](https://math.stackexchange.com/questions/1478128/for-linear-regression-compute-theta-t-x). The reason for the difference in order and transpose is due to the former dealing with a **single training example** and the latter dealing with **a matrix of training examples**."
   ]
  },
  {
   "cell_type": "markdown",
   "metadata": {},
   "source": [
    "## Dataset"
   ]
  },
  {
   "cell_type": "code",
   "execution_count": 3,
   "metadata": {},
   "outputs": [],
   "source": [
    "train_X = np.array([[1], [2], [4], [3], [5]])\n",
    "train_y = np.array([[1], [3], [3], [2], [5]])"
   ]
  },
  {
   "cell_type": "markdown",
   "metadata": {},
   "source": [
    "## Plot of the Data\n",
    "\n",
    "The data appear to be following a linear trend."
   ]
  },
  {
   "cell_type": "code",
   "execution_count": 4,
   "metadata": {},
   "outputs": [
    {
     "data": {
      "text/plain": [
       "[<matplotlib.lines.Line2D at 0x7f0e4f27f710>]"
      ]
     },
     "execution_count": 4,
     "metadata": {},
     "output_type": "execute_result"
    },
    {
     "data": {
      "image/png": "[encoded data removed]",
      "text/plain": [
       "<Figure size 432x288 with 1 Axes>"
      ]
     },
     "metadata": {},
     "output_type": "display_data"
    }
   ],
   "source": [
    "plt.title('Original Data')\n",
    "plt.xlabel('X')\n",
    "plt.ylabel('y')\n",
    "plt.plot(train_X, train_y, 'ro')"
   ]
  },
  {
   "cell_type": "markdown",
   "metadata": {},
   "source": [
    "## Normalize the Data Before Gradient Descent\n",
    "\n",
    "Do MinMax Normalization on the data so that it falls within $[0, 1]$. This will allow for faster convergence."
   ]
  },
  {
   "cell_type": "code",
   "execution_count": 5,
   "metadata": {},
   "outputs": [
    {
     "data": {
      "text/plain": [
       "[<matplotlib.lines.Line2D at 0x7f0e4b223f28>]"
      ]
     },
     "execution_count": 5,
     "metadata": {},
     "output_type": "execute_result"
    },
    {
     "data": {
      "image/png": "[encoded data removed]",
      "text/plain": [
       "<Figure size 432x288 with 1 Axes>"
      ]
     },
     "metadata": {},
     "output_type": "display_data"
    }
   ],
   "source": [
    "# normalize features between [0, 1]\n",
    "def normalize(data):\n",
    "    return (data - data.min()) / (data.max() - data.min())\n",
    "\n",
    "X_norm = normalize(train_X)\n",
    "y_norm = normalize(train_y)\n",
    "plt.title('Normalized Data')\n",
    "plt.xlabel('X normalized')\n",
    "plt.ylabel('y normalized')\n",
    "plt.plot(X_norm, y_norm, 'bo')"
   ]
  },
  {
   "cell_type": "code",
   "execution_count": 6,
   "metadata": {},
   "outputs": [
    {
     "data": {
      "text/plain": [
       "array([[0.  ],\n",
       "       [0.25],\n",
       "       [0.75],\n",
       "       [0.5 ],\n",
       "       [1.  ]])"
      ]
     },
     "execution_count": 6,
     "metadata": {},
     "output_type": "execute_result"
    }
   ],
   "source": [
    "X_norm"
   ]
  },
  {
   "cell_type": "markdown",
   "metadata": {},
   "source": [
    "## Data Preparation\n",
    "\n",
    "Concatenate a column of ones to X so that we can easily take the dot product for $X\\theta$"
   ]
  },
  {
   "cell_type": "code",
   "execution_count": 7,
   "metadata": {},
   "outputs": [
    {
     "data": {
      "text/plain": [
       "array([[1.  , 0.  ],\n",
       "       [1.  , 0.25],\n",
       "       [1.  , 0.75],\n",
       "       [1.  , 0.5 ],\n",
       "       [1.  , 1.  ]])"
      ]
     },
     "execution_count": 7,
     "metadata": {},
     "output_type": "execute_result"
    }
   ],
   "source": [
    "# prepare X by concatenating a column of rows\n",
    "column_of_ones = np.ones((len(y_norm), 1))\n",
    "X_norm = np.concatenate((column_of_ones, X_norm), axis=1)\n",
    "X_norm"
   ]
  },
  {
   "cell_type": "code",
   "execution_count": 8,
   "metadata": {},
   "outputs": [
    {
     "data": {
      "text/plain": [
       "(5, 2)"
      ]
     },
     "execution_count": 8,
     "metadata": {},
     "output_type": "execute_result"
    }
   ],
   "source": [
    "X_norm.shape"
   ]
  },
  {
   "cell_type": "code",
   "execution_count": 9,
   "metadata": {},
   "outputs": [
    {
     "data": {
      "text/plain": [
       "(5, 1)"
      ]
     },
     "execution_count": 9,
     "metadata": {},
     "output_type": "execute_result"
    }
   ],
   "source": [
    "y_norm.shape"
   ]
  },
  {
   "cell_type": "markdown",
   "metadata": {},
   "source": [
    "## Initialize Theta\n",
    "\n",
    "$\\theta$ was initialized to zeros as the data were normalized."
   ]
  },
  {
   "cell_type": "code",
   "execution_count": 10,
   "metadata": {},
   "outputs": [
    {
     "data": {
      "text/plain": [
       "(2, 1)"
      ]
     },
     "execution_count": 10,
     "metadata": {},
     "output_type": "execute_result"
    }
   ],
   "source": [
    "# theta is number of features + 1 (the +1 is for the intercept)\n",
    "theta = np.zeros((X_norm.shape[1], 1))\n",
    "theta.shape"
   ]
  },
  {
   "cell_type": "markdown",
   "metadata": {},
   "source": [
    "## Gradient Descent Implementation"
   ]
  },
  {
   "cell_type": "code",
   "execution_count": 17,
   "metadata": {},
   "outputs": [
    {
     "name": "stdout",
     "output_type": "stream",
     "text": [
      "[[ 0.05650421]\n",
      " [ 0.7882648 ]]\n",
      "(2, 1)\n"
     ]
    }
   ],
   "source": [
    "def cost(X, y, theta):\n",
    "    m = len(y)\n",
    "    hypothesis = np.dot(X, theta)\n",
    "    error = hypothesis - y\n",
    "    return (1.0 / m) * np.sum(error**2)\n",
    "\n",
    "def cost_gradient(X, y, theta):\n",
    "    m = len(y)\n",
    "    hypothesis = np.dot(X, theta)         # step 1\n",
    "    error = hypothesis - y                # step 2\n",
    "    return (2.0 / m) * np.dot(X.T, error) # step 3\n",
    "\n",
    "def gradient_descent(max_epochs, tolerance, X, y, theta, learning_rate):\n",
    "    costs = []\n",
    "    curr_epoch = 0\n",
    "    while (curr_epoch < max_epochs):\n",
    "        # update theta\n",
    "        theta = theta - learning_rate * cost_gradient(X, y, theta)\n",
    "        \n",
    "        # update cost\n",
    "        J = cost(X, y, theta)\n",
    "        \n",
    "        if curr_epoch % 10 == 0:\n",
    "            costs.append(J)\n",
    "                \n",
    "        curr_epoch += 1\n",
    "    return theta, costs\n",
    "\n",
    "max_epochs = 2000\n",
    "tolerance = 0.001\n",
    "learning_rate = 0.01\n",
    "final_theta, costs = gradient_descent(max_epochs, tolerance, X_norm, y_norm, theta, learning_rate)\n",
    "\n",
    "print(final_theta)\n",
    "print(final_theta.shape)"
   ]
  },
  {
   "cell_type": "markdown",
   "metadata": {},
   "source": [
    "## Analyzing How Learning Rates Affect Error"
   ]
  },
  {
   "cell_type": "code",
   "execution_count": 11,
   "metadata": {},
   "outputs": [
    {
     "data": {
      "image/png": "[encoded data removed]",
      "text/plain": [
       "<matplotlib.figure.Figure at 0x1c5702d9668>"
      ]
     },
     "metadata": {},
     "output_type": "display_data"
    }
   ],
   "source": [
    "max_epochs = 2000\n",
    "tolerance = 0.001\n",
    "learning_rates = [0.1, 0.01, 0.001, 0.0001]\n",
    "epochs = [ epoch for epoch in range(max_epochs) if (epoch % 10 == 0)]\n",
    "\n",
    "fig, axes = plt.subplots(len(learning_rates), 2, figsize=(15, 25))\n",
    "\n",
    "for i, learning_rate in enumerate(learning_rates):\n",
    "    final_theta, costs = gradient_descent(max_epochs, tolerance, X_norm, y_norm, theta, learning_rate)\n",
    "    \n",
    "    axes[i][0].set_title('Gradient Descent with Learning Rate {}'.format(learning_rate))\n",
    "    axes[i][0].set_xlabel('Epoch')\n",
    "    axes[i][0].set_ylabel('Error')\n",
    "    axes[i][0].plot(epochs, costs, 'b')\n",
    "    \n",
    "    least_cost = costs[-1]\n",
    "    axes[i][1].set_title(f'Line of best fit for normalized data. Least Error: {least_cost:.6f}'.format(least_cost))\n",
    "    axes[i][1].set_xlabel('X normalized')\n",
    "    axes[i][1].set_ylabel('y normalized')\n",
    "    axes[i][1].plot(X_norm[:, 1], y_norm, 'ro', X_norm[:, 1], np.dot(X_norm, final_theta), 'b')"
   ]
  },
  {
   "cell_type": "markdown",
   "metadata": {},
   "source": [
    "From the plot aboves, a high learning rate of $0.1$ lends to fast convergence and the least amount of error, $0.030000$. Less epochs would be needed for the $0.1$ learning rate, as the error flattens out at less than $250$ epochs. In contrast, a low learning rate of $0.0001$ has slower convergence and would need more than $2000$ epochs to attain a similar low error to the $0.1$ learning rate."
   ]
  },
  {
   "cell_type": "markdown",
   "metadata": {},
   "source": [
    "## Choosing Parameters for Gradient Descent\n",
    "\n",
    "### Initializing Theta\n",
    "\n",
    "How you choose $\\theta$ depends on whether or not you **normalized** your data before performing gradient descent.\n",
    "\n",
    "| Normalized Data | Non-Normalized Data |\n",
    "|:--------------- |:--------------------|\n",
    "| initialize theta to **zeros** as data is normalized around **0** | must pick a **smart starting point** for $\\theta$ close to where you think the optimum is (which may not be around 0) |\n",
    "| will take less steps to converge | will take more steps to converge |\n",
    "\n",
    "#### Example\n",
    "\n",
    "Suppose your data is **normalized** by performing **minmax normalization** (see below for formula) so that the data are in the set $[0, 1]$. Suppose $X = [[0.5], [-0.25], [0.75]], y = [[0.1], [0.2], [-0.3]]$. \n",
    "\n",
    "It's known that $dim(X) = (3, 1)$. $X$ has $3$ **rows** and $1$ **feature**. \n",
    "\n",
    "Given this information, we should initialize theta such that $dim(\\theta) = (len(features) + 1, 1) = (2, 1)$. \n",
    "\n",
    "Therefore, $\\theta_{initial} = [[0.], [0.]]$\n",
    "\n",
    "#### [Feature Scaling before Theta Initialization](https://en.wikipedia.org/wiki/Feature_scaling)\n",
    "\n",
    "One example of **feature scaling** is **MinMax Normalization**.\n",
    "\n",
    "**MinMax Normalization:** \n",
    "\n",
    "$$X' = \\frac{X - X_min}{X_max - X_min}$$\n",
    "\n",
    "#### Importance of Normalization\n",
    "\n",
    "[Normalizing features](https://en.wikipedia.org/wiki/Feature_scaling) before performing gradient descent is important, since it will allow for `faster convergence`.\n",
    "\n",
    "![image](https://user-images.githubusercontent.com/7232635/44600279-cec18980-a7a6-11e8-84af-1a30169f0f62.png)\n",
    "\n",
    "### Learning Rate\n",
    "\n",
    "Too high a learning rate and gradient descent will **diverge**, too low a learning rate and gradient descent will take an **extremely long time to converge**.\n",
    "\n",
    "![image](https://user-images.githubusercontent.com/7232635/44600184-81ddb300-a7a6-11e8-9fc8-b14ea0f0ccb4.png)\n",
    "\n",
    "Typically, you would select a learning rate in the range $[0.1, 0.00001]$."
   ]
  },
  {
   "cell_type": "markdown",
   "metadata": {},
   "source": [
    "### Limitations of Gradient Descent\n",
    "\n",
    "* Only works for problems which have a `well-defined convex optimization` problem \n",
    "* Does poorly with `non-convex` and `non-strongly convex` optimization problems\n",
    "* Suffers with `saddle points` and multiple local minima\n",
    "\n",
    "#### Well-Defined Convex Optimization Problem\n",
    "\n",
    "![image](https://user-images.githubusercontent.com/7232635/44543527-c6514c00-a6dd-11e8-894d-5c5ec6396c4a.png)\n",
    "\n",
    "#### Non-Convex Optimization Problem\n",
    "\n",
    "![image](https://user-images.githubusercontent.com/7232635/44543469-9bff8e80-a6dd-11e8-86e9-72f46df21ee6.png)\n",
    "\n",
    "#### Non-Strongly Convex Optimization Problem\n",
    "\n",
    "![image](https://user-images.githubusercontent.com/7232635/44543891-d4ec3300-a6de-11e8-931e-49b39ddbf2de.png)\n",
    "\n",
    "#### Saddle Point\n",
    "\n",
    "![image](https://user-images.githubusercontent.com/7232635/44543643-1d572100-a6de-11e8-9826-28bcca8ca6b5.png)\n",
    "\n",
    "\n",
    "# Resources\n",
    "\n",
    "* [Andrew Ng's Lecture Material](http://cs229.stanford.edu/notes/cs229-notes1.pdf)"
   ]
  },
  {
   "cell_type": "markdown",
   "metadata": {},
   "source": [
    "End of stuff for now"
   ]
  },
  {
   "cell_type": "markdown",
   "metadata": {},
   "source": [
    "![image](https://user-images.githubusercontent.com/7232635/44798661-13bb3680-ab80-11e8-8f0e-6f8cc2bb6c45.png)\n"
   ]
  },
  {
   "cell_type": "markdown",
   "metadata": {},
   "source": [
    "The normalization of the data makes it so the y-intercept of the best fit is around 0.0. Otherwise, you could have a y-intercept thousands of units off of the starting guess, and you'd have to trek there before you ever really started the optimization part.The normalization of the data makes it so the y-intercept of the best fit is around 0.0. Otherwise, you could have a y-intercept thousands of units off of the starting guess, and you'd have to trek there before you ever really started the optimization part.\n",
    "\n",
    "No, absolutely not, but if you don't normalize, you should pick a starting point more intelligently (you're starting at (m,b) = (0,0)). Your learnrate may also be too small if you don't normalize your data, and same with your tolerance.\n",
    "\n",
    "For a well-formed problem, if you're in fact diverging it often means your step size is too large. Try lowering it.\n",
    "\n",
    "If it's simply not converging before it hits the max iterations, that could be a few issues:\n",
    "\n",
    "Your step size is too small,\n",
    "Your tolerance is too small,\n",
    "Your max iterations is too small,\n",
    "Your starting point is poorly chosen\n",
    "\n",
    "https://stackoverflow.com/questions/10479353/gradient-descent-seems-to-fail\n",
    "\n",
    "variations of gradient descent:\n",
    "batch\n",
    "stochastic (sgd)\n",
    "mini-batch"
   ]
  },
  {
   "cell_type": "markdown",
   "metadata": {},
   "source": [
    "## Regularization\n",
    "\n",
    "* pushes coefficients of the polynomial to 0 to make the polynomial simpler\n",
    "* to prevent overfitting\n",
    "* Ridge Regression, Lasso"
   ]
  },
  {
   "cell_type": "markdown",
   "metadata": {},
   "source": [
    "## Ridge (L2) Regression\n",
    "\n",
    "* `discourages` learning a more `complex` model, so as to `avoid` the risk of `overfitting`\n",
    "* good for polynomials, continuous functions, and normal distributions\n",
    "\n",
    "### λ\n",
    "* shrinkage parameter\n",
    "* controls the size of the coefficients\n",
    "* controls amount of regularization\n",
    "* λ ↓ 0, we obtain the least squares solutions\n",
    "* λ ↑ ∞, we get an intercept-only model\n",
    "\n",
    "![image](https://user-images.githubusercontent.com/7232635/44366487-d62d1e00-a49a-11e8-8502-c5ceea47d925.png)"
   ]
  },
  {
   "cell_type": "markdown",
   "metadata": {},
   "source": [
    "## Stochastic Gradient Descent\n",
    "* fits points to lines\n",
    "* `optimization` algorithm to find a good set of model `parameters` given a training dataset\n",
    "* `iterative` algorithm and evaluates and updates the `coefficients` every iteration to `minimize` the `error` of a model on its training data\n",
    "\n",
    "### Required Parameters for SGD\n",
    "* **Learning Rate** - to limit the amount each coefficient is corrected on each update\n",
    "* **Epochs** - number of times to run through the training data while updating the coefficients\n",
    "\n",
    "### Update to Coefficients\n",
    "\n",
    "![image](https://user-images.githubusercontent.com/7232635/44360541-2307f900-a489-11e8-99a3-88e6e014df8f.png)\n",
    "\n",
    "![image](https://user-images.githubusercontent.com/7232635/44360561-387d2300-a489-11e8-8a40-c0ab31bc77fc.png)\n"
   ]
  },
  {
   "cell_type": "markdown",
   "metadata": {},
   "source": [
    "## Gradient Descent vs Stochastic Gradient Descent\n",
    "\n",
    "| Gradient Descent | Stochastic Gradient Descent |\n",
    "|:-----------------|:----------------------------|\n",
    "| When the dataset is large, calculating the parameters is `expensive`. Consider a dataset of `1 billion sample points`. Gradient descent would go through all 1 billion sample points on each epoch to calculate the parameters. | |"
   ]
  },
  {
   "cell_type": "code",
   "execution_count": 11,
   "metadata": {},
   "outputs": [
    {
     "data": {
      "text/html": [
       "<img src=\"https://www.jeremyjordan.me/content/images/2018/01/opt1.gif\"/>"
      ],
      "text/plain": [
       "<IPython.core.display.Image object>"
      ]
     },
     "execution_count": 11,
     "metadata": {},
     "output_type": "execute_result"
    }
   ],
   "source": [
    "from IPython.display import Image\n",
    "Image(url='https://www.jeremyjordan.me/content/images/2018/01/opt1.gif')"
   ]
  },
  {
   "cell_type": "markdown",
   "metadata": {},
   "source": [
    "## Gradient Descent on Multiple Variables\n",
    "\n",
    "Use the `transcoding_measurement.tsv` to predict `video transcoding time` for `MPEG` encoded videos. \n",
    "\n",
    "To follow along, read the [associated paper](https://ieeexplore.ieee.org/abstract/document/6890256/) which goes over their steps for this problem.\n",
    "\n",
    "* [Dataset here](http://archive.ics.uci.edu/ml/datasets/Online+Video+Characteristics+and+Transcoding+Time+Dataset)"
   ]
  },
  {
   "cell_type": "code",
   "execution_count": 13,
   "metadata": {
    "collapsed": true
   },
   "outputs": [],
   "source": [
    "%matplotlib inline\n",
    "import pandas as pd\n",
    "from matplotlib import pyplot as plt"
   ]
  },
  {
   "cell_type": "code",
   "execution_count": 14,
   "metadata": {},
   "outputs": [
    {
     "ename": "FileNotFoundError",
     "evalue": "File b'./transcoding_measurement.tsv' does not exist",
     "output_type": "error",
     "traceback": [
      "\u001b[1;31m---------------------------------------------------------------------------\u001b[0m",
      "\u001b[1;31mFileNotFoundError\u001b[0m                         Traceback (most recent call last)",
      "\u001b[1;32m<ipython-input-14-6e8a6557c6e9>\u001b[0m in \u001b[0;36m<module>\u001b[1;34m()\u001b[0m\n\u001b[1;32m----> 1\u001b[1;33m \u001b[0minput_video_df\u001b[0m \u001b[1;33m=\u001b[0m \u001b[0mpd\u001b[0m\u001b[1;33m.\u001b[0m\u001b[0mread_csv\u001b[0m\u001b[1;33m(\u001b[0m\u001b[1;34m'./transcoding_measurement.tsv'\u001b[0m\u001b[1;33m,\u001b[0m \u001b[0msep\u001b[0m\u001b[1;33m=\u001b[0m\u001b[1;34m'\\t'\u001b[0m\u001b[1;33m)\u001b[0m\u001b[1;33m\u001b[0m\u001b[0m\n\u001b[0m\u001b[0;32m      2\u001b[0m \u001b[0moutput_video_df\u001b[0m \u001b[1;33m=\u001b[0m \u001b[0mpd\u001b[0m\u001b[1;33m.\u001b[0m\u001b[0mread_csv\u001b[0m\u001b[1;33m(\u001b[0m\u001b[1;34m'./youtube_videos.tsv'\u001b[0m\u001b[1;33m,\u001b[0m \u001b[0msep\u001b[0m\u001b[1;33m=\u001b[0m\u001b[1;34m'\\t'\u001b[0m\u001b[1;33m)\u001b[0m\u001b[1;33m\u001b[0m\u001b[0m\n",
      "\u001b[1;32m~\\Anaconda3\\lib\\site-packages\\pandas\\io\\parsers.py\u001b[0m in \u001b[0;36mparser_f\u001b[1;34m(filepath_or_buffer, sep, delimiter, header, names, index_col, usecols, squeeze, prefix, mangle_dupe_cols, dtype, engine, converters, true_values, false_values, skipinitialspace, skiprows, nrows, na_values, keep_default_na, na_filter, verbose, skip_blank_lines, parse_dates, infer_datetime_format, keep_date_col, date_parser, dayfirst, iterator, chunksize, compression, thousands, decimal, lineterminator, quotechar, quoting, escapechar, comment, encoding, dialect, tupleize_cols, error_bad_lines, warn_bad_lines, skipfooter, skip_footer, doublequote, delim_whitespace, as_recarray, compact_ints, use_unsigned, low_memory, buffer_lines, memory_map, float_precision)\u001b[0m\n\u001b[0;32m    707\u001b[0m                     skip_blank_lines=skip_blank_lines)\n\u001b[0;32m    708\u001b[0m \u001b[1;33m\u001b[0m\u001b[0m\n\u001b[1;32m--> 709\u001b[1;33m         \u001b[1;32mreturn\u001b[0m \u001b[0m_read\u001b[0m\u001b[1;33m(\u001b[0m\u001b[0mfilepath_or_buffer\u001b[0m\u001b[1;33m,\u001b[0m \u001b[0mkwds\u001b[0m\u001b[1;33m)\u001b[0m\u001b[1;33m\u001b[0m\u001b[0m\n\u001b[0m\u001b[0;32m    710\u001b[0m \u001b[1;33m\u001b[0m\u001b[0m\n\u001b[0;32m    711\u001b[0m     \u001b[0mparser_f\u001b[0m\u001b[1;33m.\u001b[0m\u001b[0m__name__\u001b[0m \u001b[1;33m=\u001b[0m \u001b[0mname\u001b[0m\u001b[1;33m\u001b[0m\u001b[0m\n",
      "\u001b[1;32m~\\Anaconda3\\lib\\site-packages\\pandas\\io\\parsers.py\u001b[0m in \u001b[0;36m_read\u001b[1;34m(filepath_or_buffer, kwds)\u001b[0m\n\u001b[0;32m    447\u001b[0m \u001b[1;33m\u001b[0m\u001b[0m\n\u001b[0;32m    448\u001b[0m     \u001b[1;31m# Create the parser.\u001b[0m\u001b[1;33m\u001b[0m\u001b[1;33m\u001b[0m\u001b[0m\n\u001b[1;32m--> 449\u001b[1;33m     \u001b[0mparser\u001b[0m \u001b[1;33m=\u001b[0m \u001b[0mTextFileReader\u001b[0m\u001b[1;33m(\u001b[0m\u001b[0mfilepath_or_buffer\u001b[0m\u001b[1;33m,\u001b[0m \u001b[1;33m**\u001b[0m\u001b[0mkwds\u001b[0m\u001b[1;33m)\u001b[0m\u001b[1;33m\u001b[0m\u001b[0m\n\u001b[0m\u001b[0;32m    450\u001b[0m \u001b[1;33m\u001b[0m\u001b[0m\n\u001b[0;32m    451\u001b[0m     \u001b[1;32mif\u001b[0m \u001b[0mchunksize\u001b[0m \u001b[1;32mor\u001b[0m \u001b[0miterator\u001b[0m\u001b[1;33m:\u001b[0m\u001b[1;33m\u001b[0m\u001b[0m\n",
      "\u001b[1;32m~\\Anaconda3\\lib\\site-packages\\pandas\\io\\parsers.py\u001b[0m in \u001b[0;36m__init__\u001b[1;34m(self, f, engine, **kwds)\u001b[0m\n\u001b[0;32m    816\u001b[0m             \u001b[0mself\u001b[0m\u001b[1;33m.\u001b[0m\u001b[0moptions\u001b[0m\u001b[1;33m[\u001b[0m\u001b[1;34m'has_index_names'\u001b[0m\u001b[1;33m]\u001b[0m \u001b[1;33m=\u001b[0m \u001b[0mkwds\u001b[0m\u001b[1;33m[\u001b[0m\u001b[1;34m'has_index_names'\u001b[0m\u001b[1;33m]\u001b[0m\u001b[1;33m\u001b[0m\u001b[0m\n\u001b[0;32m    817\u001b[0m \u001b[1;33m\u001b[0m\u001b[0m\n\u001b[1;32m--> 818\u001b[1;33m         \u001b[0mself\u001b[0m\u001b[1;33m.\u001b[0m\u001b[0m_make_engine\u001b[0m\u001b[1;33m(\u001b[0m\u001b[0mself\u001b[0m\u001b[1;33m.\u001b[0m\u001b[0mengine\u001b[0m\u001b[1;33m)\u001b[0m\u001b[1;33m\u001b[0m\u001b[0m\n\u001b[0m\u001b[0;32m    819\u001b[0m \u001b[1;33m\u001b[0m\u001b[0m\n\u001b[0;32m    820\u001b[0m     \u001b[1;32mdef\u001b[0m \u001b[0mclose\u001b[0m\u001b[1;33m(\u001b[0m\u001b[0mself\u001b[0m\u001b[1;33m)\u001b[0m\u001b[1;33m:\u001b[0m\u001b[1;33m\u001b[0m\u001b[0m\n",
      "\u001b[1;32m~\\Anaconda3\\lib\\site-packages\\pandas\\io\\parsers.py\u001b[0m in \u001b[0;36m_make_engine\u001b[1;34m(self, engine)\u001b[0m\n\u001b[0;32m   1047\u001b[0m     \u001b[1;32mdef\u001b[0m \u001b[0m_make_engine\u001b[0m\u001b[1;33m(\u001b[0m\u001b[0mself\u001b[0m\u001b[1;33m,\u001b[0m \u001b[0mengine\u001b[0m\u001b[1;33m=\u001b[0m\u001b[1;34m'c'\u001b[0m\u001b[1;33m)\u001b[0m\u001b[1;33m:\u001b[0m\u001b[1;33m\u001b[0m\u001b[0m\n\u001b[0;32m   1048\u001b[0m         \u001b[1;32mif\u001b[0m \u001b[0mengine\u001b[0m \u001b[1;33m==\u001b[0m \u001b[1;34m'c'\u001b[0m\u001b[1;33m:\u001b[0m\u001b[1;33m\u001b[0m\u001b[0m\n\u001b[1;32m-> 1049\u001b[1;33m             \u001b[0mself\u001b[0m\u001b[1;33m.\u001b[0m\u001b[0m_engine\u001b[0m \u001b[1;33m=\u001b[0m \u001b[0mCParserWrapper\u001b[0m\u001b[1;33m(\u001b[0m\u001b[0mself\u001b[0m\u001b[1;33m.\u001b[0m\u001b[0mf\u001b[0m\u001b[1;33m,\u001b[0m \u001b[1;33m**\u001b[0m\u001b[0mself\u001b[0m\u001b[1;33m.\u001b[0m\u001b[0moptions\u001b[0m\u001b[1;33m)\u001b[0m\u001b[1;33m\u001b[0m\u001b[0m\n\u001b[0m\u001b[0;32m   1050\u001b[0m         \u001b[1;32melse\u001b[0m\u001b[1;33m:\u001b[0m\u001b[1;33m\u001b[0m\u001b[0m\n\u001b[0;32m   1051\u001b[0m             \u001b[1;32mif\u001b[0m \u001b[0mengine\u001b[0m \u001b[1;33m==\u001b[0m \u001b[1;34m'python'\u001b[0m\u001b[1;33m:\u001b[0m\u001b[1;33m\u001b[0m\u001b[0m\n",
      "\u001b[1;32m~\\Anaconda3\\lib\\site-packages\\pandas\\io\\parsers.py\u001b[0m in \u001b[0;36m__init__\u001b[1;34m(self, src, **kwds)\u001b[0m\n\u001b[0;32m   1693\u001b[0m         \u001b[0mkwds\u001b[0m\u001b[1;33m[\u001b[0m\u001b[1;34m'allow_leading_cols'\u001b[0m\u001b[1;33m]\u001b[0m \u001b[1;33m=\u001b[0m \u001b[0mself\u001b[0m\u001b[1;33m.\u001b[0m\u001b[0mindex_col\u001b[0m \u001b[1;32mis\u001b[0m \u001b[1;32mnot\u001b[0m \u001b[1;32mFalse\u001b[0m\u001b[1;33m\u001b[0m\u001b[0m\n\u001b[0;32m   1694\u001b[0m \u001b[1;33m\u001b[0m\u001b[0m\n\u001b[1;32m-> 1695\u001b[1;33m         \u001b[0mself\u001b[0m\u001b[1;33m.\u001b[0m\u001b[0m_reader\u001b[0m \u001b[1;33m=\u001b[0m \u001b[0mparsers\u001b[0m\u001b[1;33m.\u001b[0m\u001b[0mTextReader\u001b[0m\u001b[1;33m(\u001b[0m\u001b[0msrc\u001b[0m\u001b[1;33m,\u001b[0m \u001b[1;33m**\u001b[0m\u001b[0mkwds\u001b[0m\u001b[1;33m)\u001b[0m\u001b[1;33m\u001b[0m\u001b[0m\n\u001b[0m\u001b[0;32m   1696\u001b[0m \u001b[1;33m\u001b[0m\u001b[0m\n\u001b[0;32m   1697\u001b[0m         \u001b[1;31m# XXX\u001b[0m\u001b[1;33m\u001b[0m\u001b[1;33m\u001b[0m\u001b[0m\n",
      "\u001b[1;32mpandas\\_libs\\parsers.pyx\u001b[0m in \u001b[0;36mpandas._libs.parsers.TextReader.__cinit__\u001b[1;34m()\u001b[0m\n",
      "\u001b[1;32mpandas\\_libs\\parsers.pyx\u001b[0m in \u001b[0;36mpandas._libs.parsers.TextReader._setup_parser_source\u001b[1;34m()\u001b[0m\n",
      "\u001b[1;31mFileNotFoundError\u001b[0m: File b'./transcoding_measurement.tsv' does not exist"
     ]
    }
   ],
   "source": [
    "input_video_df = pd.read_csv('./transcoding_measurement.tsv', sep='\\t')\n",
    "output_video_df = pd.read_csv('./youtube_videos.tsv', sep='\\t')"
   ]
  },
  {
   "cell_type": "markdown",
   "metadata": {},
   "source": [
    "## Input Video (MPEG)"
   ]
  },
  {
   "cell_type": "code",
   "execution_count": null,
   "metadata": {
    "collapsed": true
   },
   "outputs": [],
   "source": [
    "input_video_df.head()"
   ]
  },
  {
   "cell_type": "code",
   "execution_count": null,
   "metadata": {
    "collapsed": true
   },
   "outputs": [],
   "source": [
    "input_video_df.columns"
   ]
  },
  {
   "cell_type": "markdown",
   "metadata": {},
   "source": [
    "## Output Decoded Video"
   ]
  },
  {
   "cell_type": "code",
   "execution_count": null,
   "metadata": {
    "collapsed": true
   },
   "outputs": [],
   "source": [
    "output_video_df.head()"
   ]
  },
  {
   "cell_type": "markdown",
   "metadata": {},
   "source": [
    "## Select Features for Gradient Descent on Multiple Variables\n",
    "\n",
    "In the paper, they selected these features:\n",
    "\n",
    "### From input video\n",
    "\n",
    "* bitrate\n",
    "* framerate\n",
    "* resolution\n",
    "* codec\n",
    "* number of i frames\n",
    "* number of p frames\n",
    "* number of b frames\n",
    "* size of i frames\n",
    "* size of p frames\n",
    "* size of b frames \n",
    "\n",
    "### From output video\n",
    "\n",
    "* desired bitrate\n",
    "* framerate\n",
    "* resolution\n",
    "* codec\n",
    "\n",
    "### Predict\n",
    "\n",
    "* transcoding rate - measured in frames per second (fps) is defined as the number of frames transcoded per unit time (sec). Higher transcoding rate indicates better throughput, reduced delay and total cost of the system"
   ]
  },
  {
   "cell_type": "markdown",
   "metadata": {},
   "source": [
    "### Description of Features\n",
    "\n",
    "* id = Youtube video id \n",
    "* duration = duration of video \n",
    "* bitrate bitrate(video) = video bitrate \n",
    "* height = height of video in pixles \n",
    "* width = width of video in pixles \n",
    "* frame rate = actual video frame rate \n",
    "* frame rate(est.) = estimated video frame rate \n",
    "* codec = coding standard used for the video \n",
    "* category = YouTube video category \n",
    "* url = direct link to video (has expiration date) \n",
    "* i = number of i frames in the video \n",
    "* p = number of p frames in the video \n",
    "* b = number of b frames in the video \n",
    "* frames = number of frames in video \n",
    "* i_size = total size in byte of i videos \n",
    "* p_size = total size in byte of p videos \n",
    "* b_size = total size in byte of b videos \n",
    "* size = total size of video \n",
    "* o_codec = output codec used for transcoding \n",
    "* o_bitrate = output bitrate used for transcoding \n",
    "* o_framerate = output framerate used for transcoding \n",
    "* o_width = output width in pixel used for transcoding \n",
    "* o_height = output height used in pixel for transcoding \n",
    "* umem = total codec allocated memory for transcoding \n",
    "* utime = total transcoding time for transcoding"
   ]
  },
  {
   "cell_type": "markdown",
   "metadata": {},
   "source": [
    "## Extract Features"
   ]
  },
  {
   "cell_type": "code",
   "execution_count": null,
   "metadata": {
    "collapsed": true
   },
   "outputs": [],
   "source": [
    "# let height = resolution\n",
    "\n",
    "input_video_df_filtered = input_video_df[['bitrate', 'framerate', 'height', 'codec', 'i', 'p', 'b', 'i_size', 'p_size', \n",
    "                                          'b_size']]\n",
    "output_video_df_filtered = output_video_df[['bitrate', 'frame rate', 'height', 'codec']]"
   ]
  },
  {
   "cell_type": "code",
   "execution_count": null,
   "metadata": {
    "collapsed": true
   },
   "outputs": [],
   "source": [
    "input_video_df_filtered.head()"
   ]
  },
  {
   "cell_type": "code",
   "execution_count": null,
   "metadata": {
    "collapsed": true
   },
   "outputs": [],
   "source": [
    "output_video_df_filtered.head()"
   ]
  },
  {
   "cell_type": "markdown",
   "metadata": {},
   "source": [
    "## Give Features Friendlier Names"
   ]
  },
  {
   "cell_type": "code",
   "execution_count": null,
   "metadata": {
    "collapsed": true
   },
   "outputs": [],
   "source": [
    "input_video_df_filtered = input_video_df_filtered.rename(index=str, columns={\"bitrate\": \"input_bitrate\", \n",
    "                                                                             \"framerate\": \"input_framerate\", \n",
    "                                                                             \"height\": \"input_resolution\", \"codec\": \"input_codec\"})\n",
    "output_video_df_filtered = output_video_df_filtered.rename(index=str, columns={\"bitrate\": \"output_bitrate\", \"frame rate\": \"output_framerate\", \"height\": \"output_resolution\", \"codec\": \"output_codec\"})"
   ]
  },
  {
   "cell_type": "code",
   "execution_count": null,
   "metadata": {
    "collapsed": true
   },
   "outputs": [],
   "source": [
    "input_video_df_filtered.head()"
   ]
  },
  {
   "cell_type": "code",
   "execution_count": null,
   "metadata": {
    "collapsed": true
   },
   "outputs": [],
   "source": [
    "output_video_df_filtered.head()"
   ]
  },
  {
   "cell_type": "markdown",
   "metadata": {},
   "source": [
    "## Create X and y DataFrames"
   ]
  },
  {
   "cell_type": "code",
   "execution_count": null,
   "metadata": {
    "collapsed": true
   },
   "outputs": [],
   "source": [
    "X = input_video_df_filtered.join(output_video_df_filtered)\n",
    "y = input_video_df[['utime']]"
   ]
  },
  {
   "cell_type": "code",
   "execution_count": null,
   "metadata": {
    "collapsed": true
   },
   "outputs": [],
   "source": [
    "X.head()"
   ]
  }
 ],
 "metadata": {
  "kernelspec": {
   "display_name": "Python 3",
   "language": "python",
   "name": "python3"
  },
  "language_info": {
   "codemirror_mode": {
    "name": "ipython",
    "version": 3
   },
   "file_extension": ".py",
   "mimetype": "text/x-python",
   "name": "python",
   "nbconvert_exporter": "python",
   "pygments_lexer": "ipython3",
   "version": "3.6.5"
  }
 },
 "nbformat": 4,
 "nbformat_minor": 2
}
