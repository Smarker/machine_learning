{
 "cells": [
  {
   "cell_type": "markdown",
   "metadata": {},
   "source": [
    "# Support Vector Machines (SVM)"
   ]
  },
  {
   "cell_type": "markdown",
   "metadata": {},
   "source": [
    "* **supervised** machine learning algorithm\n",
    "* mainly used for **classification** but also could be used in regression\n",
    "* requires **numerical** inputs\n",
    "* performs classification by using **decision boundaries** in a multidimensional space to separate different classes of points\n",
    "* provides the maximum separating margin for a **linearly separable** dataset"
   ]
  },
  {
   "cell_type": "markdown",
   "metadata": {},
   "source": [
    "## Decision Boundary\n",
    "\n",
    "* partitions the underlying vector space into two sets, one for each class"
   ]
  },
  {
   "cell_type": "markdown",
   "metadata": {},
   "source": [
    "## Margin\n",
    "\n",
    "* the **distance** from a **data point** to the **decision boundary**\n",
    "* the goal of a svm is to **maximize** the **margin**"
   ]
  },
  {
   "cell_type": "markdown",
   "metadata": {},
   "source": [
    "![svm](https://user-images.githubusercontent.com/7232635/45568835-a41e9a00-b855-11e8-97d2-198561880572.png)\n"
   ]
  },
  {
   "cell_type": "markdown",
   "metadata": {},
   "source": [
    "## SVM Kernel Trick"
   ]
  },
  {
   "cell_type": "markdown",
   "metadata": {},
   "source": [
    "When you do not have linear separable data necessary for a SVM, you can use the kernel trick. The kernel trick is \n",
    "\n",
    "![image](https://user-images.githubusercontent.com/7232635/45569619-ef39ac80-b857-11e8-8a3c-d6d7df2d5133.png)\n",
    "\n",
    "* represents a **dot product** of input data points mapped into the higher dimensional feature space by transformation\n",
    "\n",
    "### Examples\n",
    "\n",
    "* linear\n",
    "* radial basis function (rbf) \n",
    "* polynomial\n",
    "* sigmoid"
   ]
  },
  {
   "cell_type": "markdown",
   "metadata": {},
   "source": [
    "## Kernel"
   ]
  },
  {
   "cell_type": "markdown",
   "metadata": {},
   "source": [
    "![image](https://user-images.githubusercontent.com/7232635/45569619-ef39ac80-b857-11e8-8a3c-d6d7df2d5133.png)\n"
   ]
  },
  {
   "cell_type": "code",
   "execution_count": null,
   "metadata": {
    "collapsed": true
   },
   "outputs": [],
   "source": []
  }
 ],
 "metadata": {
  "kernelspec": {
   "display_name": "Python 3",
   "language": "python",
   "name": "python3"
  },
  "language_info": {
   "codemirror_mode": {
    "name": "ipython",
    "version": 3
   },
   "file_extension": ".py",
   "mimetype": "text/x-python",
   "name": "python",
   "nbconvert_exporter": "python",
   "pygments_lexer": "ipython3",
   "version": "3.6.3"
  }
 },
 "nbformat": 4,
 "nbformat_minor": 2
}
